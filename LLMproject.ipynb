{
  "cells": [
    {
      "cell_type": "markdown",
      "metadata": {
        "id": "aZfw6hVQh0Cv"
      },
      "source": [
        "# Deep Dive into Deep Learning: Fine-tuning a Large Language Model for Housing Price Prediction\n",
        "\n",
        "**Welcome to the world of Large Language Models!**\n",
        "\n",
        "In this project, you'll get a hands-on in building a state-of-the-art AI system capable of predicting housing prices. This challenge will immerse you in the core concepts of modern Natural Language Processing (NLP).\n",
        "\n",
        "## Prerequisites: A Foundation for Exploration\n",
        "\n",
        "This project assumes a basic familiarity with Python programming and Machine Learning.  While prior experience with deep learning libraries is beneficial, it's not strictly required, as we'll guide you through the essential concepts and techniques.\n",
        "\n",
        "**Here's a breakdown of the key prerequisites and resources to help you get started:**\n",
        "\n",
        "### 1. Machine Learning and Deep Learning:  The Power of Pattern Recognition\n",
        "\n",
        "*   **Machine Learning: From the Data Up**\n",
        "  \n",
        "  Machine learning algorithms grow models that realize rules and patterns from data without explicit programming. That is, instead of implementing rules based on human knowledge, we feed these algorithms large datasets, allowing them to identify trends on their own, with little expert's involvement. The aim of doing Machine Learning is to make predictions that are consistent with past and future observations.\n",
        "*   **Deep Learning: A Revolution in Artificial Intelligence**\n",
        "\n",
        "  Deep learning represents a powerful subset of machine learning that utilizes artificial neural networks – with computational structures inspired by the human brain – to model intricate patterns and relationships within data.  Deep learning has driven remarkable breakthroughs in computer vision, natural language processing, and countless other domains.\n",
        "    *   **Further Reading:** [Deep Learning](https://www.deeplearningbook.org/) by Ian Goodfellow, Yoshua Bengio, and Aaron Courville provides a comprehensive introduction to the field.\n",
        "\n",
        "### 2. The Natural Language Modeling Task: Teaching Machines to Understand Human Language\n",
        "\n",
        "*   **Decoding the Essence of Language**\n",
        "\n",
        "  Natural language processing (NLP) focuses on bridging the gap between human language and computer understanding. It encompasses a wide range of tasks, from simple text classification to machine translation and question answering.\n",
        "*   **The Power of Deep Learning in NLP**\n",
        "\n",
        "  Deep learning models, particularly those based on the Transformer architecture (more on that below!), have revolutionized NLP. Their ability to capture long-range semantic dependencies and intricate syntactic structures has led to significant improvements in language understanding and generation.\n",
        "    *   **Further Reading:**  The Stanford CS224N course ([Website](http://web.stanford.edu/class/cs224n/)) offers slides and notes that serve as a fantastic deep dive into NLP with deep learning.\n",
        "\n",
        "### 3. Transformers: The Architecture Reshaping NLP\n",
        "\n",
        "*   **Beyond Recurrent Networks**\n",
        "\n",
        "  Traditional recurrent neural networks (RNNs) faced challenges in processing long sequences of text due to their sequential nature. Transformers, introduced in the groundbreaking paper \"Attention Is All You Need\" ([Paper](https://proceedings.neurips.cc/paper_files/paper/2017/file/3f5ee243547dee91fbd053c1c4a845aa-Paper.pdf)), addressed these limitations by leveraging an innovative self-attention mechanism.\n",
        "*   **Attention is All You Need**  \n",
        "\n",
        "  Self-attention allows the model to weigh the importance of different words in a sentence when processing information, enabling it to capture relationships and dependencies across long distances efficiently. This breakthrough architecture has become the workhorse of modern NLP solutions.\n",
        "\n",
        "  We will be working with the T5 model in this project. It is a generic encoder-decoder Transformer model commonly used by researchers and academics to study the extend of machine language modeling.\n",
        "\n",
        "### 4. Hugging Face, PyTorch, and the Power of Open-Source AI\n",
        "\n",
        "*   **Hugging Face Transformers: Your Gateway to NLP**\n",
        "\n",
        "  Hugging Face provides a powerful and user-friendly library ([Hugging Face Documentation](https://huggingface.co/docs/transformers/index)) that simplifies the use of pre-trained Transformer models for various NLP tasks.  You'll use it extensively throughout this project.\n",
        "*   **PyTorch: A Powerful Auto-Diff Framework**\n",
        "\n",
        "  PyTorch is a widely adopted deep learning framework known for its dynamic computation graph and intuitive API. Its auto-differentiation capabilities streamline the process of calculating gradients, a critical aspect of training large neural networks with complex computation structures.\n",
        "    *   **Further Reading:**  The official [PyTorch Tutorials](https://pytorch.org/tutorials/) are an excellent resource for getting started.\n",
        "\n",
        "### 5. The Deep Learning Training Pipeline: A Step-by-Step Guide\n",
        "\n",
        "1.  **Data Preparation:**  Transforming raw data into a format suitable for training a deep learning model, often involving cleaning missing or invalid data values, data normalization, and splitting into training, validation, and test sets.\n",
        "2.  **Model Selection:** Choosing an appropriate model architecture (in our case, a pre-trained Transformer) based on the task/dataset characteristics. This is where the expert's intuition comes in, but at a very high level.\n",
        "3.  **Loss Function and Optimizer:** Defining a loss function that continuously quantifies the model's errors during training and selecting an optimization algorithm (typically Stochastic Gradient Descent and variations) to adjust the model's parameters and minimize this loss function.\n",
        "4.  **Training:** Feeding the training data through the model - in batches or all at once, calculating the loss, and using backpropagation to update the model's weights. We typically need to do these steps many times.\n",
        "5.  **Validation:**  Evaluating the model's performance on a separate validation set to tune hyperparameters and prevent overfitting (where the model memorizes the training data so it fails to generalize to unseen examples).\n",
        "6.  **Testing:** Assessing the model's final performance on a held-out test set to provide an unbiased estimate of its generalization correctness. These test examples should not have been used in tuning the model's parameters nor its hyperparameters.\n",
        "\n",
        "### 6. Project Goals: Unveiling the Apparent Magic of Deep Learning\n",
        "\n",
        "In this project, our aim is to provide you with practical experience and a deeper understanding of:\n",
        "\n",
        "*   **Fine-tuning Pretrained Language Models:** You'll learn how to adapt a powerful pre-trained language model (T5) to a specific task, scientific question answering, by training it on a relevant dataset.\n",
        "*   **Hyperparameter Tuning:** Experimenting with different training settings to optimize your model's performance.\n",
        "*   **Evaluating Model Performance:** Using appropriate metrics to assess your model's effectiveness.\n",
        "*   **Model Interpretability:** Gaining insights into how your model makes decisions, particularly by visualizing the attention mechanism within the Transformer architecture.\n",
        "\n",
        "**To be successful at this project's learning goals, we expect that you read the description of each section, run every code block sequentially from top to bottom (you can check if your implementation is correct by compare and contrast with the provided outputs), and complete the TODOs and final report. In addition, we highly encourage you to break free from the provided starter code and implement additional features for data augmnetation, model interpretability and visualization, etc. Happy deep diving!**"
      ]
    },
    {
      "cell_type": "code",
      "execution_count": 12,
      "metadata": {
        "colab": {
          "base_uri": "https://localhost:8080/"
        },
        "id": "PrtlB17HhIhY",
        "outputId": "45648e15-4e24-4372-bec9-27a296c99790"
      },
      "outputs": [
        {
          "output_type": "stream",
          "name": "stdout",
          "text": [
            "Requirement already satisfied: transformers in /usr/local/lib/python3.10/dist-packages (4.46.3)\n",
            "Requirement already satisfied: tqdm in /usr/local/lib/python3.10/dist-packages (4.66.6)\n",
            "Requirement already satisfied: filelock in /usr/local/lib/python3.10/dist-packages (from transformers) (3.16.1)\n",
            "Requirement already satisfied: huggingface-hub<1.0,>=0.23.2 in /usr/local/lib/python3.10/dist-packages (from transformers) (0.26.3)\n",
            "Requirement already satisfied: numpy>=1.17 in /usr/local/lib/python3.10/dist-packages (from transformers) (1.26.4)\n",
            "Requirement already satisfied: packaging>=20.0 in /usr/local/lib/python3.10/dist-packages (from transformers) (24.2)\n",
            "Requirement already satisfied: pyyaml>=5.1 in /usr/local/lib/python3.10/dist-packages (from transformers) (6.0.2)\n",
            "Requirement already satisfied: regex!=2019.12.17 in /usr/local/lib/python3.10/dist-packages (from transformers) (2024.9.11)\n",
            "Requirement already satisfied: requests in /usr/local/lib/python3.10/dist-packages (from transformers) (2.32.3)\n",
            "Requirement already satisfied: tokenizers<0.21,>=0.20 in /usr/local/lib/python3.10/dist-packages (from transformers) (0.20.3)\n",
            "Requirement already satisfied: safetensors>=0.4.1 in /usr/local/lib/python3.10/dist-packages (from transformers) (0.4.5)\n",
            "Requirement already satisfied: fsspec>=2023.5.0 in /usr/local/lib/python3.10/dist-packages (from huggingface-hub<1.0,>=0.23.2->transformers) (2024.10.0)\n",
            "Requirement already satisfied: typing-extensions>=3.7.4.3 in /usr/local/lib/python3.10/dist-packages (from huggingface-hub<1.0,>=0.23.2->transformers) (4.12.2)\n",
            "Requirement already satisfied: charset-normalizer<4,>=2 in /usr/local/lib/python3.10/dist-packages (from requests->transformers) (3.4.0)\n",
            "Requirement already satisfied: idna<4,>=2.5 in /usr/local/lib/python3.10/dist-packages (from requests->transformers) (3.10)\n",
            "Requirement already satisfied: urllib3<3,>=1.21.1 in /usr/local/lib/python3.10/dist-packages (from requests->transformers) (2.2.3)\n",
            "Requirement already satisfied: certifi>=2017.4.17 in /usr/local/lib/python3.10/dist-packages (from requests->transformers) (2024.8.30)\n"
          ]
        }
      ],
      "source": [
        "!pip install transformers tqdm # Install necessary libraries (Run this cell first)"
      ]
    },
    {
      "cell_type": "code",
      "execution_count": 13,
      "metadata": {
        "id": "aJGPc-OHwx--"
      },
      "outputs": [],
      "source": [
        "import os # For interacting with the operating system\n",
        "import pandas as pd # For data storage, manipulation, and fast analysis\n",
        "from transformers import T5Tokenizer, T5ForConditionalGeneration # For the T5 model\n",
        "from torch.utils.data import Dataset, DataLoader # For making custom datasets\n",
        "from tqdm import tqdm # For visualizing training/testing progress bar\n",
        "import torch # PyTorch library for deep learning\n",
        "import sklearn # For fast initialization of machine learning models and algorithms\n",
        "import matplotlib.pyplot as plt # For plotting graphs\n",
        "import seaborn as sns # For plotting heatmaps\n",
        "import warnings # For printing warning messages"
      ]
    },
    {
      "cell_type": "markdown",
      "metadata": {
        "id": "yTSVPXxMhSzF"
      },
      "source": [
        "# Part 1: Data Preparation & Preprocessing\n",
        "1. Load the Boston Housing Dataset\n",
        "\n",
        "Download the [Boston Housing Dataset](https://www.kaggle.com/code/prasadperera/the-boston-housing-dataset/input), upload it to your Colab environment, and use the correct path name to programmatically access that file (should be a csv file) during runtime. If you would like to learn what the column names mean or the dataset origin, please visit [this link](https://www.cs.toronto.edu/~delve/data/boston/bostonDetail.html) (it is highly recommended that you intimately understand the dataset you are working with).\n",
        "\n",
        "Remember that our task is to train a model that can predict the price of houses given other attributes/features of those houses. That is, the last column of this data is what we aim to make the model correctly predict given the other columns."
      ]
    },
    {
      "cell_type": "code",
      "execution_count": 14,
      "metadata": {
        "colab": {
          "base_uri": "https://localhost:8080/"
        },
        "id": "CpXyjjaxhfMr",
        "outputId": "a8418c32-1144-4468-b56b-b3d15ea6fdc0"
      },
      "outputs": [
        {
          "output_type": "stream",
          "name": "stdout",
          "text": [
            "      CRIM    ZN  INDUS  CHAS    NOX     RM   AGE     DIS  RAD    TAX  \\\n",
            "0  0.00632  18.0   2.31     0  0.538  6.575  65.2  4.0900    1  296.0   \n",
            "1  0.02731   0.0   7.07     0  0.469  6.421  78.9  4.9671    2  242.0   \n",
            "2  0.02729   0.0   7.07     0  0.469  7.185  61.1  4.9671    2  242.0   \n",
            "3  0.03237   0.0   2.18     0  0.458  6.998  45.8  6.0622    3  222.0   \n",
            "4  0.06905   0.0   2.18     0  0.458  7.147  54.2  6.0622    3  222.0   \n",
            "\n",
            "   PTRATIO       B  LSTAT  MEDV  \n",
            "0     15.3  396.90   4.98  24.0  \n",
            "1     17.8  396.90   9.14  21.6  \n",
            "2     17.8  392.83   4.03  34.7  \n",
            "3     18.7  394.63   2.94  33.4  \n",
            "4     18.7  396.90   5.33  36.2  \n",
            "\n",
            "Dataset dimensions: (506, 14)\n",
            "\n",
            "<class 'pandas.core.frame.DataFrame'>\n",
            "RangeIndex: 506 entries, 0 to 505\n",
            "Data columns (total 14 columns):\n",
            " #   Column   Non-Null Count  Dtype  \n",
            "---  ------   --------------  -----  \n",
            " 0   CRIM     506 non-null    float64\n",
            " 1   ZN       506 non-null    float64\n",
            " 2   INDUS    506 non-null    float64\n",
            " 3   CHAS     506 non-null    int64  \n",
            " 4   NOX      506 non-null    float64\n",
            " 5   RM       506 non-null    float64\n",
            " 6   AGE      506 non-null    float64\n",
            " 7   DIS      506 non-null    float64\n",
            " 8   RAD      506 non-null    int64  \n",
            " 9   TAX      506 non-null    float64\n",
            " 10  PTRATIO  506 non-null    float64\n",
            " 11  B        506 non-null    float64\n",
            " 12  LSTAT    506 non-null    float64\n",
            " 13  MEDV     506 non-null    float64\n",
            "dtypes: float64(12), int64(2)\n",
            "memory usage: 55.5 KB\n",
            "None\n"
          ]
        }
      ],
      "source": [
        "column_names = ['CRIM', 'ZN', 'INDUS', 'CHAS', 'NOX', 'RM', 'AGE', 'DIS', 'RAD', 'TAX', 'PTRATIO', 'B', 'LSTAT', 'MEDV']\n",
        "data = pd.read_csv('./housing.csv', header=None, delimiter=r\"\\s+\", names=column_names) # Replace with the appropriate path if necessary\n",
        "\n",
        "# Inspect the dataframe\n",
        "print(data.head()) # Display the first few rows of the dataset\n",
        "print()\n",
        "print(\"Dataset dimensions:\", data.shape) # Display the number of rows and columns in the dataset\n",
        "print()\n",
        "print(data.info()) # Display information about the dataset (data types, missing values of each column, etc.)"
      ]
    },
    {
      "cell_type": "markdown",
      "metadata": {
        "id": "--va-j6DhwTX"
      },
      "source": [
        "2. Define a function to transform the dataset\n",
        "\n",
        "If you have been in Machine Learning for some time, you might have notice that price prediction is a regression task, which means the model should output continuous numerical values. However, T5 is a language model, which means it outputs discrete text tokens. We will handle this discrepancy in modality in the later section. For now, we need to convert the given numerical data format to the textual data format so our T5 model can consume this data.\n",
        "\n",
        "We need to do the following data processing steps:\n",
        "-  Combining Text: We combine the features into a single text string because the T5 model expects a single natural language string as input. The T5 model also outputs a single natural language string so we also need to make the ground-truth label a text string so we can supervise the model outputs versus the ground-truth labels.\n",
        "- Pandas DataFrame: We convert this data into a [Pandas DataFrame](https://pandas.pydata.org/docs/getting_started/index.html#getting-started) for efficient data manipulation and to easily feed the data into our training pipeline later."
      ]
    },
    {
      "cell_type": "code",
      "execution_count": 15,
      "metadata": {
        "id": "x_qffxrnhtwv",
        "colab": {
          "base_uri": "https://localhost:8080/"
        },
        "outputId": "7222d4cf-7747-477c-ee20-e4bd28676e80"
      },
      "outputs": [
        {
          "output_type": "stream",
          "name": "stdout",
          "text": [
            "                                               input output\n",
            "0  The property has crime rate 0.00632, zoning pr...   24.0\n",
            "1  The property has crime rate 0.02731, zoning pr...   21.6\n",
            "2  The property has crime rate 0.02729, zoning pr...   34.7\n",
            "3  The property has crime rate 0.03237, zoning pr...   33.4\n",
            "4  The property has crime rate 0.06905, zoning pr...   36.2\n"
          ]
        }
      ],
      "source": [
        "def reformat_dataset(data: pd.DataFrame) -> pd.DataFrame:\n",
        "\n",
        "    formatted_data = []\n",
        "\n",
        "    for _, row in data.iterrows():\n",
        "        # Combine all feature values except the last column (MEDV) into a descriptive input string\n",
        "        input_string = (\n",
        "            f\"The property has crime rate {row['CRIM']}, zoning proportion {row['ZN']}, \"\n",
        "            f\"non-retail business acres {row['INDUS']}, is near the Charles River ({int(row['CHAS'])}), \"\n",
        "            f\"has nitric oxide concentration {row['NOX']}, average rooms {row['RM']}, \"\n",
        "            f\"proportion of owner-occupied units {row['AGE']}, distance to employment centers {row['DIS']}, \"\n",
        "            f\"accessibility index {row['RAD']}, tax rate {row['TAX']}, \"\n",
        "            f\"pupil-teacher ratio {row['PTRATIO']}, and lower status percentage {row['LSTAT']}.\"\n",
        "        )\n",
        "\n",
        "\n",
        "        output_string = str(row['MEDV'])\n",
        "\n",
        "\n",
        "        formatted_data.append((input_string, output_string))\n",
        "\n",
        "\n",
        "    return pd.DataFrame(formatted_data, columns=[\"input\", \"output\"])\n",
        "\n",
        "\n",
        "\n",
        "formatted_data = reformat_dataset(data)\n",
        "print(formatted_data.head())\n"
      ]
    },
    {
      "cell_type": "markdown",
      "metadata": {
        "id": "5UQ6rbimj4oh"
      },
      "source": [
        "3. Split the data into training, validation, and test sets\n",
        "\n",
        "It's essential to divide our data into three separate sets: training, validation, and test. Let's understand why this is crucial:\n",
        "\n",
        "- Training Data:  This is the largest portion of our data, used to directly train the model's parameters.\n",
        "- Validation Data: Held separate from the training data, this set is used to fine-tune the model's hyperparameters (like learning rate, batch size, epochs) and get an early sense of its performance on unseen data.\n",
        "- Test Data: The most important subset! It's kept hidden from the model during training and validation and used only at the very end to provide an unbiased evaluation of the final model's performance.\n",
        "\n",
        "To efficiently feed our data to the T5 model during training, we'll create a custom dataset class and a data collate function. They handle the extraction and tokenization of our text data and organizes it into a format readily consumable by the PyTorch DataLoader.\n",
        "\n",
        "**Key Benefits of Defining a Custom Dataset Class and a Data Collate Function**\n",
        "- Organized Data Loading:  Simplifies the process of accessing and preparing data batches during training. Especially when the data may be coming in various format (e.g. dictionaries, lists, dataframes, etc.).\n",
        "- On-the-Fly Tokenization:  Performs tokenization (more on this in the next section) and sequence length padding efficiently when a data sample is requested.\n",
        "- Integration with DataLoader:  Works seamlessly with PyTorch's DataLoader for data multi-processing and data shuffling."
      ]
    },
    {
      "cell_type": "code",
      "execution_count": 16,
      "metadata": {
        "id": "tDt9e509WDlH",
        "colab": {
          "base_uri": "https://localhost:8080/"
        },
        "outputId": "a82c9d37-9603-4ab8-f904-41ac75c3778c"
      },
      "outputs": [
        {
          "output_type": "stream",
          "name": "stdout",
          "text": [
            "Training data: 354 samples\n",
            "Validation data: 76 samples\n",
            "Test data: 76 samples\n",
            "{'text': 'The property has crime rate 0.02985, zoning proportion 0.0, non-retail business acres 2.18, is near the Charles River (0), has nitric oxide concentration 0.458, average rooms 6.43, proportion of owner-occupied units 58.7, distance to employment centers 6.0622, accessibility index 3.0, tax rate 222.0, pupil-teacher ratio 18.7, and lower status percentage 5.21.', 'label': '28.7'}\n",
            "Input IDs: torch.Size([16, 94])\n",
            "Attention Mask: torch.Size([16, 94])\n",
            "Labels: torch.Size([16, 4])\n"
          ]
        }
      ],
      "source": [
        "from sklearn.model_selection import train_test_split\n",
        "\n",
        "\n",
        "train_data, temp_data = train_test_split(formatted_data, test_size=0.3, random_state=42)  # 70% train, 30% temp\n",
        "val_data, test_data = train_test_split(temp_data, test_size=0.5, random_state=42)  # Split remaining 30% into 15% each\n",
        "\n",
        "print(f\"Training data: {len(train_data)} samples\")\n",
        "print(f\"Validation data: {len(val_data)} samples\")\n",
        "print(f\"Test data: {len(test_data)} samples\")\n",
        "\n",
        "class OurDataset(Dataset):\n",
        "    def __init__(self, data: pd.DataFrame):\n",
        "\n",
        "        self.data = data\n",
        "\n",
        "    def __len__(self):\n",
        "\n",
        "        return len(self.data)\n",
        "\n",
        "    def __getitem__(self, at_index: int) -> dict:\n",
        "        \"\"\"\n",
        "        Args:\n",
        "            at_index (int): Index of the sample to retrieve.\n",
        "\n",
        "        Returns:\n",
        "            dict: A dictionary with 'text' (input string) and 'label' (output string).\n",
        "        \"\"\"\n",
        "        item_at_index = {\n",
        "            \"text\": self.data.iloc[at_index][\"input\"],\n",
        "            \"label\": self.data.iloc[at_index][\"output\"],\n",
        "        }\n",
        "        return item_at_index\n",
        "\n",
        "\n",
        "\n",
        "train_dataset = OurDataset(train_data)\n",
        "val_dataset = OurDataset(val_data)\n",
        "test_dataset = OurDataset(test_data)\n",
        "\n",
        "\n",
        "print(train_dataset[0])\n",
        "\n",
        "\n",
        "from transformers import T5Tokenizer\n",
        "\n",
        "\n",
        "tokenizer = T5Tokenizer.from_pretrained(\"t5-small\")\n",
        "\n",
        "def collate_fn(batch):\n",
        "\n",
        "    texts = [item[\"text\"] for item in batch]\n",
        "    labels = [item[\"label\"] for item in batch]\n",
        "\n",
        "    # Tokenize inputs and labels, and convert to PyTorch tensors\n",
        "    inputs = tokenizer(texts, padding=True, truncation=True, return_tensors=\"pt\")\n",
        "    outputs = tokenizer(labels, padding=True, truncation=True, return_tensors=\"pt\")\n",
        "\n",
        "\n",
        "    return {\n",
        "        \"input_ids\": inputs[\"input_ids\"],\n",
        "        \"attention_mask\": inputs[\"attention_mask\"],\n",
        "        \"labels\": outputs[\"input_ids\"],\n",
        "    }\n",
        "\n",
        "\n",
        "from torch.utils.data import DataLoader\n",
        "\n",
        "\n",
        "train_loader = DataLoader(train_dataset, batch_size=16, shuffle=True, collate_fn=collate_fn)\n",
        "val_loader = DataLoader(val_dataset, batch_size=16, shuffle=False, collate_fn=collate_fn)\n",
        "test_loader = DataLoader(test_dataset, batch_size=16, shuffle=False, collate_fn=collate_fn)\n",
        "\n",
        "\n",
        "for batch in train_loader:\n",
        "    print(\"Input IDs:\", batch[\"input_ids\"].shape)\n",
        "    print(\"Attention Mask:\", batch[\"attention_mask\"].shape)\n",
        "    print(\"Labels:\", batch[\"labels\"].shape)\n",
        "    break\n"
      ]
    },
    {
      "cell_type": "code",
      "execution_count": 17,
      "metadata": {
        "colab": {
          "base_uri": "https://localhost:8080/"
        },
        "id": "frHr6D4Ij2Sz",
        "outputId": "158a35c5-bce3-4b75-ba35-a117a796a9ec"
      },
      "outputs": [
        {
          "output_type": "stream",
          "name": "stdout",
          "text": [
            "Training data size: 404\n",
            "First train datapoint\n",
            " {'text': 'The property has crime rate 15.0234, zoning proportion 0.0, non-retail business acres 18.1, is near the Charles River (0), has nitric oxide concentration 0.614, average rooms 5.304, proportion of owner-occupied units 97.3, distance to employment centers 2.1007, accessibility index 24.0, tax rate 666.0, pupil-teacher ratio 20.2, and lower status percentage 24.91.', 'label': '12.0'}\n",
            "Validation data size: 51\n",
            "First val datapoint\n",
            " {'text': 'The property has crime rate 0.00632, zoning proportion 18.0, non-retail business acres 2.31, is near the Charles River (0), has nitric oxide concentration 0.538, average rooms 6.575, proportion of owner-occupied units 65.2, distance to employment centers 4.09, accessibility index 1.0, tax rate 296.0, pupil-teacher ratio 15.3, and lower status percentage 4.98.', 'label': '24.0'}\n",
            "Test data size: 51\n",
            "First test datapoint\n",
            " {'text': 'The property has crime rate 0.13914, zoning proportion 0.0, non-retail business acres 4.05, is near the Charles River (0), has nitric oxide concentration 0.51, average rooms 5.572, proportion of owner-occupied units 88.5, distance to employment centers 2.5961, accessibility index 5.0, tax rate 296.0, pupil-teacher ratio 16.6, and lower status percentage 14.69.', 'label': '23.1'}\n"
          ]
        }
      ],
      "source": [
        "from sklearn.model_selection import train_test_split\n",
        "\n",
        "# Split and process each partition of the dataset individually\n",
        "# Train data is used to train model's parameters\n",
        "# Val data is used pick model's hyperparameters\n",
        "# Test data is used to evaluate the model's performance\n",
        "train_data, val_test_data = train_test_split(data, test_size=0.2, random_state=42)  # Split into train and temp sets\n",
        "val_data, test_data = train_test_split(val_test_data, test_size=0.5, random_state=42)  # Split temp into val and test sets\n",
        "\n",
        "# Apply the reformatting function\n",
        "train_data = reformat_dataset(train_data)\n",
        "val_data = reformat_dataset(val_data)\n",
        "test_data = reformat_dataset(test_data)\n",
        "\n",
        "# Create our custom datasets\n",
        "train_data = OurDataset(train_data)\n",
        "val_data = OurDataset(val_data)\n",
        "test_data = OurDataset(test_data)\n",
        "\n",
        "print(\"Training data size:\", len(train_data))\n",
        "print(\"First train datapoint\\n\", train_data[0])\n",
        "print(\"Validation data size:\", len(val_data))\n",
        "print(\"First val datapoint\\n\", val_data[0])\n",
        "print(\"Test data size:\", len(test_data))\n",
        "print(\"First test datapoint\\n\", test_data[0])"
      ]
    },
    {
      "cell_type": "code",
      "execution_count": 18,
      "metadata": {
        "id": "m12KcsAyxw5o"
      },
      "outputs": [],
      "source": [
        "tokenizer = T5Tokenizer.from_pretrained(\"t5-small\")  # Load the tokenizer for the 'collate_fn' context\n",
        "\n",
        "\n",
        "def collate_fn(batch):\n",
        "    # Tokenize datapoints in batch, we do padding depending on longest sequence\n",
        "    # in the batch\n",
        "    text = tokenizer([datapoint['text'] for datapoint in batch], padding=True, return_tensors='pt')\n",
        "    labels = tokenizer([datapoint['label'] for datapoint in batch], padding=True, return_tensors='pt')\n",
        "    return {'input_ids': text['input_ids'], 'attention_mask': text['attention_mask'], 'labels': labels['input_ids']}"
      ]
    },
    {
      "cell_type": "markdown",
      "metadata": {
        "id": "xfyeiAq-kDMP"
      },
      "source": [
        "# Part 2: Model Fine-tuning\n",
        "\n",
        "1. Load the pre-trained T5-small model and tokenizer\n",
        "\n",
        "In this project, we'll be working with the \"T5-small\" model, a lightweight but powerful Transformer-based language model developed by Google.  Let's see what makes T5 ([Documentation](https://huggingface.co/docs/transformers/en/model_doc/t5)) special and why it's well-suited for our task.\n",
        "\n",
        "**T5 Architecture and Training: A Versatile Language Model**\n",
        "\n",
        "- Encoder-Decoder Structure:  As introduced in [Attention Is All You Need](https://proceedings.neurips.cc/paper_files/paper/2017/file/3f5ee243547dee91fbd053c1c4a845aa-Paper.pdf), T5 consists of two main components: an encoder that processes the input text into a context vector and a decoder that autoregressively generates the output text based on the context vector and generated texts.\n",
        "- Text-to-Text Framework: What sets T5 apart is its pre-training approach. It was pre-trained on a massive dataset of text-to-text tasks, where it learns various NLP tasks (translation, summarization, question answering) in a unified text-to-text format.\n",
        "    - C4 Dataset:  T5 is pre-trained on the [Colossal Clean Crawled Corpus (C4)](https://huggingface.co/datasets/allenai/c4), a vast dataset of text and code scraped from the entier internet. This extensive and diverse training data makes T5 remarkably versatile and capable of adapting to various NLP tasks.\n",
        "\n",
        "**The Role of the Tokenizer**\n",
        "\n",
        "- Bridging the Gap Between Text and Vectors:  Deep learning models operate on numerical vectors, not raw text. The tokenizer acts as a translator between the two.\n",
        "- Vocabulary and Tokenization:  It has a predefined vocabulary (a mapping between words or subwords and numerical IDs). The tokenizer splits the input text into individual tokens (words or subwords) and converts them into their corresponding numerical IDs. The model can then convert these IDs into the corresponding vector using its trainable look-up table.\n",
        "\n",
        "You may wonder: how can these vectors stand in place of words? The magic happened when the model was pre-trained on the internet, it learns to map semantically related words (typically used in similar contexts) to similar vectors, while words that are unrelated are mapped to othorgonal vectors."
      ]
    },
    {
      "cell_type": "code",
      "execution_count": 19,
      "metadata": {
        "colab": {
          "base_uri": "https://localhost:8080/",
          "height": 477,
          "referenced_widgets": [
            "d6065be19da64896b536622f16cf4461",
            "ade4dc0ea780449bb9395bb8ff08426b",
            "a1d376100edb45cf88558f32004529e8",
            "629baa7d1fb94731afa6a6e892ee3f12",
            "49a20efe990f4b4b8efb555a6323f29d",
            "b490b9cd92f24ce3a5e814dda6957bc7",
            "77124f66ed924c0ca2e320dd176a0f11",
            "567dc69578044311a99b047388fbc9c4",
            "3736567e30024d27b4c9633b5fbced3f",
            "f5b7de62afbc48128996e574bae90fc5",
            "39f587ef71994dd3a425b0649e8e6124",
            "b5f9a9cb778a46fab690db2e593f85a8",
            "8492fc1fc8824573ab9a2f2670eeb7a0",
            "24b9e5c9363248aca3692290d9c411fb",
            "1273b072d9cf41d6b8d99c3b615c1c6b",
            "a0152b04759c453bb1af3f9d2e436ffa",
            "f2938b1722184e33b84da25decdcecea",
            "82b7fc930d1d41069a1817fedf822eff",
            "b23f632e1bbc4f12a563b8c9166b6fbc",
            "8a6ee40105e549ff847d9c790e9a6e96",
            "4148fe8e98f8400d920d134378b5bc32",
            "44136a5c597c4c24ae9ff8fb203ddf2d",
            "c65afb2b1ba34fd4a3a68e41fdbcde11",
            "97d2dd57df394eb2bb6753aaecb19811",
            "54ed3559821e4355990d1cb7a23975c8",
            "27cde343d2d649fda8a50d82fbd2d185",
            "19da45c753ff4bb6bfca49cb2e9244c0",
            "99d41186d757451682f4eb2cc8ac4682",
            "172def5f900f4e039dafddd0ed44e98c",
            "4b34ead5c8784ec9bffabf416a235d31",
            "7ab1a88f15aa45fd8d76d20e5271b561",
            "8efc9572da914dee86149e572ec39955",
            "5211104b60194d1494528ca4c9e6d460"
          ]
        },
        "id": "01gdMy0jkBCd",
        "outputId": "b87e0c1d-aee3-4531-f10c-34e9ee3c8ff5"
      },
      "outputs": [
        {
          "output_type": "display_data",
          "data": {
            "text/plain": [
              "config.json:   0%|          | 0.00/1.21k [00:00<?, ?B/s]"
            ],
            "application/vnd.jupyter.widget-view+json": {
              "version_major": 2,
              "version_minor": 0,
              "model_id": "d6065be19da64896b536622f16cf4461"
            }
          },
          "metadata": {}
        },
        {
          "output_type": "display_data",
          "data": {
            "text/plain": [
              "model.safetensors:   0%|          | 0.00/242M [00:00<?, ?B/s]"
            ],
            "application/vnd.jupyter.widget-view+json": {
              "version_major": 2,
              "version_minor": 0,
              "model_id": "b5f9a9cb778a46fab690db2e593f85a8"
            }
          },
          "metadata": {}
        },
        {
          "output_type": "display_data",
          "data": {
            "text/plain": [
              "generation_config.json:   0%|          | 0.00/147 [00:00<?, ?B/s]"
            ],
            "application/vnd.jupyter.widget-view+json": {
              "version_major": 2,
              "version_minor": 0,
              "model_id": "c65afb2b1ba34fd4a3a68e41fdbcde11"
            }
          },
          "metadata": {}
        },
        {
          "output_type": "stream",
          "name": "stdout",
          "text": [
            "Model has 60,506,624 trainable parameters.\n",
            "Tokenizer has a vocabulary of 32100 tokens.\n",
            "\n",
            "Tokens of the sentence \"I wish birds can perform the blues when Spring comes!\" are:\n",
            "['▁I', '▁wish', '▁birds', '▁can', '▁perform', '▁the', '▁blue', 's', '▁when', '▁Spring', '▁comes', '!']\n",
            "\n",
            "Tokens of the sentence \"0.123, 903, 100, -43.32\" are:\n",
            "['▁0.', '123', ',', '▁90', '3,', '▁100', ',', '▁', '-', '43', '.', '32']\n",
            "\n",
            "Vocab IDs of the sentence \"I wish birds can perform the blues when Spring comes!\" are:\n",
            "[27, 1663, 6331, 54, 1912, 8, 1692, 7, 116, 4328, 639, 55, 1]\n",
            "\n",
            "Vocab IDs of the sentence \"0.123, 903, 100, -43.32\" are:\n",
            "[4097, 14574, 6, 2777, 6355, 910, 6, 3, 18, 4906, 5, 2668, 1]\n",
            "\n",
            "Cosine similarity score between \"cat\" and \"kitten\": 0.443185955286026\n",
            "\n",
            "Cosine Similarity score between \"cat\" and \"high\": 0.0012265145778656006\n",
            "\n",
            "Cosine Similarity score between \"high\" and \"low\": 0.6634555459022522\n",
            "\n"
          ]
        }
      ],
      "source": [
        "model = T5ForConditionalGeneration.from_pretrained(\"t5-small\")  # Load the model\n",
        "device = torch.device(\"cuda\" if torch.cuda.is_available() else \"cpu\")  # Use GPU if available\n",
        "model.to(device)  # Move the model to the device\n",
        "model_p_count = sum([p.numel() for p in filter(lambda p: p.requires_grad, model.parameters())])\n",
        "\n",
        "print(f\"Model has {model_p_count:,} trainable parameters.\")  # Print the number of trainable parameters in T5\n",
        "print(f\"Tokenizer has a vocabulary of {len(tokenizer.get_vocab())} tokens.\") # Print the tokenizer's states\n",
        "print()\n",
        "\n",
        "# Let's see how to tokenizer works on example strings\n",
        "# You may notice that a token is approximately a word (but not really),\n",
        "# this is so that the model learns the compositionality of the human language\n",
        "s1 = \"I wish birds can perform the blues when Spring comes!\"\n",
        "s2 = \"0.123, 903, 100, -43.32\"\n",
        "print(f\"Tokens of the sentence \\\"{s1}\\\" are:\\n{tokenizer.tokenize(s1)}\")\n",
        "print()\n",
        "print(f\"Tokens of the sentence \\\"{s2}\\\" are:\\n{tokenizer.tokenize(s2)}\")\n",
        "print()\n",
        "\n",
        "# Let's see the IDs those tokens are associated with\n",
        "# You may notice there is an extra token ID 1 at the end of the 2 sentences,\n",
        "# that is the special end-of-sentence token that allows the model to learn\n",
        "# when to stop prolonging the sentence\n",
        "print(f\"Vocab IDs of the sentence \\\"{s1}\\\" are:\\n{tokenizer(s1)['input_ids']}\")\n",
        "print()\n",
        "print(f\"Vocab IDs of the sentence \\\"{s2}\\\" are:\\n{tokenizer(s2)['input_ids']}\")\n",
        "print()\n",
        "\n",
        "# Let's check the embedding of two similar words versus two disimilar words\n",
        "# We know these words are to be tokenized into single tokens and we ignore the\n",
        "# end-of-sentence token\n",
        "word1 = \"cat\"\n",
        "word2 = \"kitten\"\n",
        "word3 = \"high\"\n",
        "word4 = \"low\"\n",
        "embedded_vector1 = model.get_input_embeddings()(torch.tensor([tokenizer(word1)['input_ids'][0]]))\n",
        "embedded_vector2 = model.get_input_embeddings()(torch.tensor([tokenizer(word2)['input_ids'][0]]))\n",
        "embedded_vector3 = model.get_input_embeddings()(torch.tensor([tokenizer(word3)['input_ids'][0]]))\n",
        "embedded_vector4 = model.get_input_embeddings()(torch.tensor([tokenizer(word4)['input_ids'][0]]))\n",
        "# The cosine similarity will return a value between -1 and 1:\n",
        "# a value closer to 1 indicates very aligned,\n",
        "# closer to -1 means very disaligned,\n",
        "# and closer to 0 means unrelated words\n",
        "print(f\"Cosine similarity score between \"\n",
        "      f\"\\\"{word1}\\\" and \\\"{word2}\\\": {torch.nn.functional.cosine_similarity(embedded_vector1, embedded_vector2).item()}\")\n",
        "print()\n",
        "print(f\"Cosine Similarity score between \"\n",
        "      f\"\\\"{word1}\\\" and \\\"{word3}\\\": {torch.nn.functional.cosine_similarity(embedded_vector1, embedded_vector3).item()}\")\n",
        "print()\n",
        "print(f\"Cosine Similarity score between \"\n",
        "      f\"\\\"{word3}\\\" and \\\"{word4}\\\": {torch.nn.functional.cosine_similarity(embedded_vector3, embedded_vector4).item()}\")\n",
        "print()"
      ]
    },
    {
      "cell_type": "markdown",
      "metadata": {
        "id": "aieBjlOTkLGF"
      },
      "source": [
        "2. Define training hyperparameters\n",
        "\n",
        "Now that we've loaded our pre-trained T5 model, let's dive into the process of fine-tuning it on our dataset. A crucial part of this process involves understanding and setting appropriate hyperparameters.\n",
        "\n",
        "**Hyperparameter Deep Dive: Navigating the Training Landscape**\n",
        "\n",
        "Hyperparameters are like the control knobs of our training process. They influence how the model learns from the data.  Let's explore three essential hyperparameters:\n",
        "\n",
        "- Learning Rate: This hyperparameter determines how big of a step we update the model's parameters in the direction of minimizing the model's loss during each training iteration.\n",
        "- Smaller Learning Rate (e.g., 1e-5): The model learns more slowly but might find a more precise solution.\n",
        "- Larger Learning Rate (e.g., 1e-3): Faster learning, but the model might overshoot the optimal solution and not converge well.\n",
        "- Batch Size: Instead of feeding the entire training dataset to the model at once, we divide it into smaller groups called batches.\n",
        "- Smaller Batch Size (e.g., 8, 16): Requires less memory, but updates to the model's parameters can be noisy.\n",
        "- Larger Batch Size (e.g., 32, 64): More computationally efficient, smoother updates, but might require more memory.\n",
        "- Epochs: An epoch represents one complete pass through the entire training dataset.\n",
        "- Too Few Epochs: The model might underfit the data, meaning it hasn't learned the patterns well enough.\n",
        "- Too Many Epochs: The model might overfit the data, memorizing the training examples but performing poorly on unseen data.\n",
        "\n",
        "Finding the optimal balance for these hyperparameters often involves experimentation and observing the model's performance on the validation set."
      ]
    },
    {
      "cell_type": "code",
      "execution_count": 20,
      "metadata": {
        "id": "R61j0nPwkJOO"
      },
      "outputs": [],
      "source": [
        "learning_rate = 1e-4  # Change this as you like\n",
        "batch_size = 32  # Change this as you like\n",
        "epochs = 100  # Change this as you like, you might want to train much longer to get adequate accuracy"
      ]
    },
    {
      "cell_type": "markdown",
      "metadata": {
        "id": "ChDBXDQykRc9"
      },
      "source": [
        "3. Define training loop\n",
        "\n",
        "Now that we have our data, model, and hyperparameters set, it's time to bring them all together in the training loop. This loop is where the magic happens - it's where our T5 model learns from the data to become proficient in housing price prediction.\n",
        "\n",
        "**Training Phase**\n",
        "1. Set the model to training mode\n",
        "2. Clear any previously calculated gradients\n",
        "3. Extract data from dataloader and move them to the correct device\n",
        "4. Forward Pass: Calculate the model's predictions\n",
        "5. Calculate how far off the predictions are\n",
        "6. Backward Pass: Calculate gradients for each parameter\n",
        "7. Update Model Parameters:  Adjust model parameters to minimize the loss\n",
        "\n",
        "**Validation Phase**\n",
        "1. After each epoch, we evaluate the model's progress on the validation set\n",
        "2. Set the model to evaluation mode (no parameter updates)\n",
        "3. Disable gradient calculation to save memory\n",
        "4. Similar to the training loop, but we aim to calculate the matching between model's predictions and ground-truth labels without any parameter adjustments\n",
        "\n",
        "Normally, evaluating the next-token prediction capability of a language model requires the [BLEU and ROUGE metrics](https://medium.com/@raniahossam/cracking-the-code-of-text-evaluation-unveiling-the-magic-of-rouge-metrics-bb0c687f479f). However, in our case, this metric would not be appropriate as we want the error between the model's numerical values versus the ground-truth price.\n",
        "\n",
        "For example, the model's prediction of \"cat.2\" versus a ground-truth label of \"245.2\" should be a 0 accuracy score in our case instead of a 0.5 score that the ROUGE metric would assign. Instead, we must convert the model's output and ground-truth label into numerical values, then using an appropriate regression metric - [R-squared](https://www.ncl.ac.uk/webtemplate/ask-assets/external/maths-resources/statistics/regression-and-correlation/coefficient-of-determination-r-squared.html) - to evaluate the model's performance (it is highly recommended that you understand how this metric behaves for certain model's behaviors so you can answer questions in the final report).\n",
        "\n",
        "Hint: If your implementation is correct so far, you should expect the model to fail to output (only) floating-point numbers at first, which is considered negative infinity validation score for obvious reasons, and only output numbers as the training progresses (but very lousy numbers), which allows for a non-infinity but moderately large negative validation score. As the model gets better at predicting house prices, you should see the validation score becomes positive and converges toward 1.\n",
        "\n",
        "**Checkpointing: Model saving and loading**\n",
        "\n",
        "Training LLMs can take a long time, sometimes hours or days! Checkpointing helps us to:\n",
        "\n",
        "- Save Our Progress:  Regularly saving checkpoints allows us to resume training from the last saved point if an interruption occurs (e.g., power outage, system crash).\n",
        "- Capture the Best Model: By saving the model with the highest validation score so far, we can keep track of our best-performing model during training while avoiding training degradation.\n",
        "\n",
        "**IMPORTANT NOTE** If you left your Colab environment unattended for some time, it may delete your saved files. I recommend that you regularly backup your files by downloading them onto your computer's drive once in a while, and reupload them to Colab if your files are deleted by Colab."
      ]
    },
    {
      "cell_type": "code",
      "source": [
        "CHECKPOINT_PATH = './trained_model.pth'\n",
        "DATALOADER_PATH = './dataloaders.pth'"
      ],
      "metadata": {
        "id": "LmmExSfixzvn"
      },
      "execution_count": 21,
      "outputs": []
    },
    {
      "cell_type": "code",
      "execution_count": 22,
      "metadata": {
        "id": "VxNqv9JeV8GN"
      },
      "outputs": [],
      "source": [
        "def train_model(model, optimizer, train_dataloader, val_dataloader, epochs, best_accuracy):\n",
        "    \"\"\"Trains the model and evaluates on the validation set. Returned trained model and loss/validation progress.\"\"\"\n",
        "    loss_progress = []\n",
        "    val_progress = []\n",
        "    for epoch in range(start_epoch - 1, epochs):\n",
        "        model.train()  # Trigger training mode (enable gradient tracking)\n",
        "        total_loss = 0\n",
        "        progress_bar = tqdm(train_dataloader, desc=f'Epoch {epoch + 1}', leave=False)\n",
        "        for batch in progress_bar:\n",
        "            optimizer.zero_grad()\n",
        "            # Get necessary arguments out of 'batch', feed them to model, to obtain the model's output\n",
        "            input_ids = batch['input_ids'].to(device)\n",
        "            attention_mask = batch['attention_mask'].to(device)\n",
        "            labels = batch['labels'].to(device)\n",
        "            model_outputs = model(input_ids=input_ids, attention_mask=attention_mask, labels=labels)\n",
        "            loss = model_outputs.loss\n",
        "            total_loss += loss.item()\n",
        "            loss.backward()\n",
        "            optimizer.step()\n",
        "            progress_bar.set_postfix({'loss': loss.item()})  # Update progress bar\n",
        "\n",
        "        avg_train_loss = total_loss / len(train_dataloader)\n",
        "        loss_progress.append(avg_train_loss)\n",
        "        print(f\"Epoch {epoch + 1}/{epochs} - Avg. Training Loss: {avg_train_loss:.4f}\")\n",
        "\n",
        "        # Validation\n",
        "        model.eval()  # Trigger testing mode (disable gradient tracking)\n",
        "        total_val_accuracy = 0\n",
        "        progress_bar = tqdm(val_dataloader, desc=f'Epoch {epoch + 1}', leave=False)\n",
        "        for batch in progress_bar:\n",
        "            # Get necessary arguments out of 'batch', feed them to model, to obtain the model's output\n",
        "            input_ids = batch['input_ids'].to(device)\n",
        "            attention_mask = batch['attention_mask'].to(device)\n",
        "            labels = batch['labels'].to(device)\n",
        "\n",
        "            # Call HuggingFace's special 'generate' method to do autoregressive sampling of next tokens\n",
        "            # Note that this method is not differentiable/trainable as it performs discrete operations\n",
        "            # such as token sampling and sequence path searching. Documentation here:\n",
        "            # https://huggingface.co/docs/transformers/en/main_classes/text_generation\n",
        "            generate_outputs = model.generate(input_ids=input_ids, attention_mask=attention_mask, max_new_tokens=10)\n",
        "\n",
        "            decoded_preds = tokenizer.batch_decode(generate_outputs, skip_special_tokens=True)\n",
        "            decoded_labels = tokenizer.batch_decode(labels, skip_special_tokens=True)\n",
        "\n",
        "            # Compute the R-squared score between the predicted strings and label strings\n",
        "            # We turn these strings into float for the R-squared computation\n",
        "            # but if model's output cannot be converted to a float,\n",
        "            # we can consider that an infinite error (accuracy = -infinity)\n",
        "            try:\n",
        "              predicted_values = [float(pred) for pred in decoded_preds]\n",
        "              actual_values = [float(label) for label in decoded_labels]\n",
        "              val_score = sklearn.metrics.r2_score(predicted_values, actual_values)\n",
        "            except ValueError:\n",
        "              val_score = float('-inf')\n",
        "            total_val_accuracy += val_score\n",
        "            progress_bar.set_postfix({'accuracy': val_score})  # Update progress bar\n",
        "\n",
        "        val_accuracy = total_val_accuracy / len(val_dataloader)\n",
        "        val_progress.append(val_accuracy)\n",
        "        print(f\"Epoch {epoch + 1}/{epochs} - Avg. Validation Accuracy: {val_accuracy:.4f}\")\n",
        "\n",
        "        # Best-so-far Model Checkpointing\n",
        "        if val_accuracy >= best_accuracy:\n",
        "            print(f\"New latest and best accuracy! Saving model checkpoint to {CHECKPOINT_PATH}\")\n",
        "            best_accuracy = val_accuracy\n",
        "            torch.save({\n",
        "                'epoch': epoch,\n",
        "                'model_state_dict': model.state_dict(),\n",
        "                'optimizer_state_dict': optimizer.state_dict(),\n",
        "                'loss': avg_train_loss,\n",
        "                'accuracy': best_accuracy,\n",
        "            }, CHECKPOINT_PATH)\n",
        "\n",
        "    return model, loss_progress, val_progress  # Return the trained model"
      ]
    },
    {
      "cell_type": "code",
      "execution_count": 23,
      "metadata": {
        "colab": {
          "base_uri": "https://localhost:8080/",
          "height": 1000
        },
        "id": "i5nRz6z1kPfT",
        "outputId": "a49648ac-3ba0-412c-fd5c-6ee1c1b94c4e"
      },
      "outputs": [
        {
          "metadata": {
            "tags": null
          },
          "name": "stderr",
          "output_type": "stream",
          "text": [
            "<ipython-input-23-1bbde88c7d71>:17: UserWarning: \n",
            "\n",
            "No model checkpoint found.\n",
            "Starting from scratch.\n",
            "  warnings.warn(\"\\n\\nNo model checkpoint found.\\nStarting from scratch.\")\n",
            "<ipython-input-23-1bbde88c7d71>:36: UserWarning: \n",
            "\n",
            "Starting with new data order and data slit.\n",
            "  warnings.warn(\"\\n\\nStarting with new data order and data slit.\")\n",
            "Epoch 1:   0%|          | 0/13 [00:00<?, ?it/s]Passing a tuple of `past_key_values` is deprecated and will be removed in Transformers v4.48.0. You should pass an instance of `EncoderDecoderCache` instead, e.g. `past_key_values=EncoderDecoderCache.from_legacy_cache(past_key_values)`.\n"
          ]
        },
        {
          "metadata": {
            "tags": null
          },
          "name": "stdout",
          "output_type": "stream",
          "text": [
            "Epoch 1/100 - Avg. Training Loss: 6.3647\n"
          ]
        },
        {
          "metadata": {
            "tags": null
          },
          "name": "stderr",
          "output_type": "stream",
          "text": [
            ""
          ]
        },
        {
          "metadata": {
            "tags": null
          },
          "name": "stdout",
          "output_type": "stream",
          "text": [
            "Epoch 1/100 - Avg. Validation Accuracy: -inf\n",
            "New latest and best accuracy! Saving model checkpoint to ./trained_model.pth\n"
          ]
        },
        {
          "metadata": {
            "tags": null
          },
          "name": "stderr",
          "output_type": "stream",
          "text": [
            ""
          ]
        },
        {
          "metadata": {
            "tags": null
          },
          "name": "stdout",
          "output_type": "stream",
          "text": [
            "Epoch 2/100 - Avg. Training Loss: 2.9164\n"
          ]
        },
        {
          "metadata": {
            "tags": null
          },
          "name": "stderr",
          "output_type": "stream",
          "text": [
            ""
          ]
        },
        {
          "metadata": {
            "tags": null
          },
          "name": "stdout",
          "output_type": "stream",
          "text": [
            "Epoch 2/100 - Avg. Validation Accuracy: -inf\n",
            "New latest and best accuracy! Saving model checkpoint to ./trained_model.pth\n"
          ]
        },
        {
          "metadata": {
            "tags": null
          },
          "name": "stderr",
          "output_type": "stream",
          "text": [
            ""
          ]
        },
        {
          "metadata": {
            "tags": null
          },
          "name": "stdout",
          "output_type": "stream",
          "text": [
            "Epoch 3/100 - Avg. Training Loss: 2.3385\n"
          ]
        },
        {
          "metadata": {
            "tags": null
          },
          "name": "stderr",
          "output_type": "stream",
          "text": [
            ""
          ]
        },
        {
          "metadata": {
            "tags": null
          },
          "name": "stdout",
          "output_type": "stream",
          "text": [
            "Epoch 3/100 - Avg. Validation Accuracy: -3.4586\n",
            "New latest and best accuracy! Saving model checkpoint to ./trained_model.pth\n"
          ]
        },
        {
          "metadata": {
            "tags": null
          },
          "name": "stderr",
          "output_type": "stream",
          "text": [
            ""
          ]
        },
        {
          "metadata": {
            "tags": null
          },
          "name": "stdout",
          "output_type": "stream",
          "text": [
            "Epoch 4/100 - Avg. Training Loss: 2.0300\n"
          ]
        },
        {
          "metadata": {
            "tags": null
          },
          "name": "stderr",
          "output_type": "stream",
          "text": [
            ""
          ]
        },
        {
          "metadata": {
            "tags": null
          },
          "name": "stdout",
          "output_type": "stream",
          "text": [
            "Epoch 4/100 - Avg. Validation Accuracy: -4.4537\n"
          ]
        },
        {
          "metadata": {
            "tags": null
          },
          "name": "stderr",
          "output_type": "stream",
          "text": [
            ""
          ]
        },
        {
          "metadata": {
            "tags": null
          },
          "name": "stdout",
          "output_type": "stream",
          "text": [
            "Epoch 5/100 - Avg. Training Loss: 1.9428\n"
          ]
        },
        {
          "metadata": {
            "tags": null
          },
          "name": "stderr",
          "output_type": "stream",
          "text": [
            ""
          ]
        },
        {
          "metadata": {
            "tags": null
          },
          "name": "stdout",
          "output_type": "stream",
          "text": [
            "Epoch 5/100 - Avg. Validation Accuracy: -63.2022\n"
          ]
        },
        {
          "metadata": {
            "tags": null
          },
          "name": "stderr",
          "output_type": "stream",
          "text": [
            ""
          ]
        },
        {
          "metadata": {
            "tags": null
          },
          "name": "stdout",
          "output_type": "stream",
          "text": [
            "Epoch 6/100 - Avg. Training Loss: 1.8043\n"
          ]
        },
        {
          "metadata": {
            "tags": null
          },
          "name": "stderr",
          "output_type": "stream",
          "text": [
            ""
          ]
        },
        {
          "metadata": {
            "tags": null
          },
          "name": "stdout",
          "output_type": "stream",
          "text": [
            "Epoch 6/100 - Avg. Validation Accuracy: -30.1573\n"
          ]
        },
        {
          "metadata": {
            "tags": null
          },
          "name": "stderr",
          "output_type": "stream",
          "text": [
            ""
          ]
        },
        {
          "metadata": {
            "tags": null
          },
          "name": "stdout",
          "output_type": "stream",
          "text": [
            "Epoch 7/100 - Avg. Training Loss: 1.7659\n"
          ]
        },
        {
          "metadata": {
            "tags": null
          },
          "name": "stderr",
          "output_type": "stream",
          "text": [
            ""
          ]
        },
        {
          "metadata": {
            "tags": null
          },
          "name": "stdout",
          "output_type": "stream",
          "text": [
            "Epoch 7/100 - Avg. Validation Accuracy: -28.2505\n"
          ]
        },
        {
          "metadata": {
            "tags": null
          },
          "name": "stderr",
          "output_type": "stream",
          "text": [
            ""
          ]
        },
        {
          "metadata": {
            "tags": null
          },
          "name": "stdout",
          "output_type": "stream",
          "text": [
            "Epoch 8/100 - Avg. Training Loss: 1.7057\n"
          ]
        },
        {
          "metadata": {
            "tags": null
          },
          "name": "stderr",
          "output_type": "stream",
          "text": [
            ""
          ]
        },
        {
          "metadata": {
            "tags": null
          },
          "name": "stdout",
          "output_type": "stream",
          "text": [
            "Epoch 8/100 - Avg. Validation Accuracy: -185.2710\n"
          ]
        },
        {
          "metadata": {
            "tags": null
          },
          "name": "stderr",
          "output_type": "stream",
          "text": [
            ""
          ]
        },
        {
          "metadata": {
            "tags": null
          },
          "name": "stdout",
          "output_type": "stream",
          "text": [
            "Epoch 9/100 - Avg. Training Loss: 1.7476\n"
          ]
        },
        {
          "metadata": {
            "tags": null
          },
          "name": "stderr",
          "output_type": "stream",
          "text": [
            ""
          ]
        },
        {
          "metadata": {
            "tags": null
          },
          "name": "stdout",
          "output_type": "stream",
          "text": [
            "Epoch 9/100 - Avg. Validation Accuracy: -31.6580\n"
          ]
        },
        {
          "metadata": {
            "tags": null
          },
          "name": "stderr",
          "output_type": "stream",
          "text": [
            ""
          ]
        },
        {
          "metadata": {
            "tags": null
          },
          "name": "stdout",
          "output_type": "stream",
          "text": [
            "Epoch 10/100 - Avg. Training Loss: 1.7010\n"
          ]
        },
        {
          "metadata": {
            "tags": null
          },
          "name": "stderr",
          "output_type": "stream",
          "text": [
            ""
          ]
        },
        {
          "metadata": {
            "tags": null
          },
          "name": "stdout",
          "output_type": "stream",
          "text": [
            "Epoch 10/100 - Avg. Validation Accuracy: -115.3974\n"
          ]
        },
        {
          "metadata": {
            "tags": null
          },
          "name": "stderr",
          "output_type": "stream",
          "text": [
            ""
          ]
        },
        {
          "metadata": {
            "tags": null
          },
          "name": "stdout",
          "output_type": "stream",
          "text": [
            "Epoch 11/100 - Avg. Training Loss: 1.6362\n"
          ]
        },
        {
          "metadata": {
            "tags": null
          },
          "name": "stderr",
          "output_type": "stream",
          "text": [
            ""
          ]
        },
        {
          "metadata": {
            "tags": null
          },
          "name": "stdout",
          "output_type": "stream",
          "text": [
            "Epoch 11/100 - Avg. Validation Accuracy: -91.7546\n"
          ]
        },
        {
          "metadata": {
            "tags": null
          },
          "name": "stderr",
          "output_type": "stream",
          "text": [
            ""
          ]
        },
        {
          "metadata": {
            "tags": null
          },
          "name": "stdout",
          "output_type": "stream",
          "text": [
            "Epoch 12/100 - Avg. Training Loss: 1.6308\n"
          ]
        },
        {
          "metadata": {
            "tags": null
          },
          "name": "stderr",
          "output_type": "stream",
          "text": [
            ""
          ]
        },
        {
          "metadata": {
            "tags": null
          },
          "name": "stdout",
          "output_type": "stream",
          "text": [
            "Epoch 12/100 - Avg. Validation Accuracy: -82.3295\n"
          ]
        },
        {
          "metadata": {
            "tags": null
          },
          "name": "stderr",
          "output_type": "stream",
          "text": [
            ""
          ]
        },
        {
          "metadata": {
            "tags": null
          },
          "name": "stdout",
          "output_type": "stream",
          "text": [
            "Epoch 13/100 - Avg. Training Loss: 1.6829\n"
          ]
        },
        {
          "metadata": {
            "tags": null
          },
          "name": "stderr",
          "output_type": "stream",
          "text": [
            ""
          ]
        },
        {
          "metadata": {
            "tags": null
          },
          "name": "stdout",
          "output_type": "stream",
          "text": [
            "Epoch 13/100 - Avg. Validation Accuracy: -31.5921\n"
          ]
        },
        {
          "metadata": {
            "tags": null
          },
          "name": "stderr",
          "output_type": "stream",
          "text": [
            ""
          ]
        },
        {
          "metadata": {
            "tags": null
          },
          "name": "stdout",
          "output_type": "stream",
          "text": [
            "Epoch 14/100 - Avg. Training Loss: 1.5919\n"
          ]
        },
        {
          "metadata": {
            "tags": null
          },
          "name": "stderr",
          "output_type": "stream",
          "text": [
            ""
          ]
        },
        {
          "metadata": {
            "tags": null
          },
          "name": "stdout",
          "output_type": "stream",
          "text": [
            "Epoch 14/100 - Avg. Validation Accuracy: -28.3311\n"
          ]
        },
        {
          "metadata": {
            "tags": null
          },
          "name": "stderr",
          "output_type": "stream",
          "text": [
            ""
          ]
        },
        {
          "metadata": {
            "tags": null
          },
          "name": "stdout",
          "output_type": "stream",
          "text": [
            "Epoch 15/100 - Avg. Training Loss: 1.6105\n"
          ]
        },
        {
          "metadata": {
            "tags": null
          },
          "name": "stderr",
          "output_type": "stream",
          "text": [
            ""
          ]
        },
        {
          "metadata": {
            "tags": null
          },
          "name": "stdout",
          "output_type": "stream",
          "text": [
            "Epoch 15/100 - Avg. Validation Accuracy: -32.7374\n"
          ]
        },
        {
          "metadata": {
            "tags": null
          },
          "name": "stderr",
          "output_type": "stream",
          "text": [
            ""
          ]
        },
        {
          "metadata": {
            "tags": null
          },
          "name": "stdout",
          "output_type": "stream",
          "text": [
            "Epoch 16/100 - Avg. Training Loss: 1.6323\n"
          ]
        },
        {
          "metadata": {
            "tags": null
          },
          "name": "stderr",
          "output_type": "stream",
          "text": [
            ""
          ]
        },
        {
          "metadata": {
            "tags": null
          },
          "name": "stdout",
          "output_type": "stream",
          "text": [
            "Epoch 16/100 - Avg. Validation Accuracy: -26.8161\n"
          ]
        },
        {
          "metadata": {
            "tags": null
          },
          "name": "stderr",
          "output_type": "stream",
          "text": [
            ""
          ]
        },
        {
          "metadata": {
            "tags": null
          },
          "name": "stdout",
          "output_type": "stream",
          "text": [
            "Epoch 17/100 - Avg. Training Loss: 1.5602\n"
          ]
        },
        {
          "metadata": {
            "tags": null
          },
          "name": "stderr",
          "output_type": "stream",
          "text": [
            ""
          ]
        },
        {
          "metadata": {
            "tags": null
          },
          "name": "stdout",
          "output_type": "stream",
          "text": [
            "Epoch 17/100 - Avg. Validation Accuracy: -31.4314\n"
          ]
        },
        {
          "metadata": {
            "tags": null
          },
          "name": "stderr",
          "output_type": "stream",
          "text": [
            ""
          ]
        },
        {
          "metadata": {
            "tags": null
          },
          "name": "stdout",
          "output_type": "stream",
          "text": [
            "Epoch 18/100 - Avg. Training Loss: 1.5841\n"
          ]
        },
        {
          "metadata": {
            "tags": null
          },
          "name": "stderr",
          "output_type": "stream",
          "text": [
            ""
          ]
        },
        {
          "metadata": {
            "tags": null
          },
          "name": "stdout",
          "output_type": "stream",
          "text": [
            "Epoch 18/100 - Avg. Validation Accuracy: -39.8057\n"
          ]
        },
        {
          "metadata": {
            "tags": null
          },
          "name": "stderr",
          "output_type": "stream",
          "text": [
            ""
          ]
        },
        {
          "metadata": {
            "tags": null
          },
          "name": "stdout",
          "output_type": "stream",
          "text": [
            "Epoch 19/100 - Avg. Training Loss: 1.5861\n"
          ]
        },
        {
          "metadata": {
            "tags": null
          },
          "name": "stderr",
          "output_type": "stream",
          "text": [
            ""
          ]
        },
        {
          "metadata": {
            "tags": null
          },
          "name": "stdout",
          "output_type": "stream",
          "text": [
            "Epoch 19/100 - Avg. Validation Accuracy: -13.8193\n"
          ]
        },
        {
          "metadata": {
            "tags": null
          },
          "name": "stderr",
          "output_type": "stream",
          "text": [
            ""
          ]
        },
        {
          "metadata": {
            "tags": null
          },
          "name": "stdout",
          "output_type": "stream",
          "text": [
            "Epoch 20/100 - Avg. Training Loss: 1.4883\n"
          ]
        },
        {
          "metadata": {
            "tags": null
          },
          "name": "stderr",
          "output_type": "stream",
          "text": [
            ""
          ]
        },
        {
          "metadata": {
            "tags": null
          },
          "name": "stdout",
          "output_type": "stream",
          "text": [
            "Epoch 20/100 - Avg. Validation Accuracy: -4.1239\n"
          ]
        },
        {
          "metadata": {
            "tags": null
          },
          "name": "stderr",
          "output_type": "stream",
          "text": [
            ""
          ]
        },
        {
          "metadata": {
            "tags": null
          },
          "name": "stdout",
          "output_type": "stream",
          "text": [
            "Epoch 21/100 - Avg. Training Loss: 1.5217\n"
          ]
        },
        {
          "metadata": {
            "tags": null
          },
          "name": "stderr",
          "output_type": "stream",
          "text": [
            ""
          ]
        },
        {
          "metadata": {
            "tags": null
          },
          "name": "stdout",
          "output_type": "stream",
          "text": [
            "Epoch 21/100 - Avg. Validation Accuracy: -4.2495\n"
          ]
        },
        {
          "metadata": {
            "tags": null
          },
          "name": "stderr",
          "output_type": "stream",
          "text": [
            ""
          ]
        },
        {
          "metadata": {
            "tags": null
          },
          "name": "stdout",
          "output_type": "stream",
          "text": [
            "Epoch 22/100 - Avg. Training Loss: 1.5727\n"
          ]
        },
        {
          "metadata": {
            "tags": null
          },
          "name": "stderr",
          "output_type": "stream",
          "text": [
            ""
          ]
        },
        {
          "metadata": {
            "tags": null
          },
          "name": "stdout",
          "output_type": "stream",
          "text": [
            "Epoch 22/100 - Avg. Validation Accuracy: -2.3219\n",
            "New latest and best accuracy! Saving model checkpoint to ./trained_model.pth\n"
          ]
        },
        {
          "metadata": {
            "tags": null
          },
          "name": "stderr",
          "output_type": "stream",
          "text": [
            ""
          ]
        },
        {
          "metadata": {
            "tags": null
          },
          "name": "stdout",
          "output_type": "stream",
          "text": [
            "Epoch 23/100 - Avg. Training Loss: 1.5171\n"
          ]
        },
        {
          "metadata": {
            "tags": null
          },
          "name": "stderr",
          "output_type": "stream",
          "text": [
            ""
          ]
        },
        {
          "metadata": {
            "tags": null
          },
          "name": "stdout",
          "output_type": "stream",
          "text": [
            "Epoch 23/100 - Avg. Validation Accuracy: -2.8963\n"
          ]
        },
        {
          "metadata": {
            "tags": null
          },
          "name": "stderr",
          "output_type": "stream",
          "text": [
            ""
          ]
        },
        {
          "metadata": {
            "tags": null
          },
          "name": "stdout",
          "output_type": "stream",
          "text": [
            "Epoch 24/100 - Avg. Training Loss: 1.4856\n"
          ]
        },
        {
          "metadata": {
            "tags": null
          },
          "name": "stderr",
          "output_type": "stream",
          "text": [
            ""
          ]
        },
        {
          "metadata": {
            "tags": null
          },
          "name": "stdout",
          "output_type": "stream",
          "text": [
            "Epoch 24/100 - Avg. Validation Accuracy: -2.5989\n"
          ]
        },
        {
          "metadata": {
            "tags": null
          },
          "name": "stderr",
          "output_type": "stream",
          "text": [
            ""
          ]
        },
        {
          "metadata": {
            "tags": null
          },
          "name": "stdout",
          "output_type": "stream",
          "text": [
            "Epoch 25/100 - Avg. Training Loss: 1.5238\n"
          ]
        },
        {
          "metadata": {
            "tags": null
          },
          "name": "stderr",
          "output_type": "stream",
          "text": [
            ""
          ]
        },
        {
          "metadata": {
            "tags": null
          },
          "name": "stdout",
          "output_type": "stream",
          "text": [
            "Epoch 25/100 - Avg. Validation Accuracy: -2.8794\n"
          ]
        },
        {
          "metadata": {
            "tags": null
          },
          "name": "stderr",
          "output_type": "stream",
          "text": [
            ""
          ]
        },
        {
          "metadata": {
            "tags": null
          },
          "name": "stdout",
          "output_type": "stream",
          "text": [
            "Epoch 26/100 - Avg. Training Loss: 1.5457\n"
          ]
        },
        {
          "metadata": {
            "tags": null
          },
          "name": "stderr",
          "output_type": "stream",
          "text": [
            ""
          ]
        },
        {
          "metadata": {
            "tags": null
          },
          "name": "stdout",
          "output_type": "stream",
          "text": [
            "Epoch 26/100 - Avg. Validation Accuracy: -2.2428\n",
            "New latest and best accuracy! Saving model checkpoint to ./trained_model.pth\n"
          ]
        },
        {
          "metadata": {
            "tags": null
          },
          "name": "stderr",
          "output_type": "stream",
          "text": [
            ""
          ]
        },
        {
          "metadata": {
            "tags": null
          },
          "name": "stdout",
          "output_type": "stream",
          "text": [
            "Epoch 27/100 - Avg. Training Loss: 1.4904\n"
          ]
        },
        {
          "metadata": {
            "tags": null
          },
          "name": "stderr",
          "output_type": "stream",
          "text": [
            ""
          ]
        },
        {
          "metadata": {
            "tags": null
          },
          "name": "stdout",
          "output_type": "stream",
          "text": [
            "Epoch 27/100 - Avg. Validation Accuracy: -2.6095\n"
          ]
        },
        {
          "metadata": {
            "tags": null
          },
          "name": "stderr",
          "output_type": "stream",
          "text": [
            ""
          ]
        },
        {
          "metadata": {
            "tags": null
          },
          "name": "stdout",
          "output_type": "stream",
          "text": [
            "Epoch 28/100 - Avg. Training Loss: 1.5278\n"
          ]
        },
        {
          "metadata": {
            "tags": null
          },
          "name": "stderr",
          "output_type": "stream",
          "text": [
            ""
          ]
        },
        {
          "metadata": {
            "tags": null
          },
          "name": "stdout",
          "output_type": "stream",
          "text": [
            "Epoch 28/100 - Avg. Validation Accuracy: -2.0228\n",
            "New latest and best accuracy! Saving model checkpoint to ./trained_model.pth\n"
          ]
        },
        {
          "metadata": {
            "tags": null
          },
          "name": "stderr",
          "output_type": "stream",
          "text": [
            ""
          ]
        },
        {
          "metadata": {
            "tags": null
          },
          "name": "stdout",
          "output_type": "stream",
          "text": [
            "Epoch 29/100 - Avg. Training Loss: 1.4949\n"
          ]
        },
        {
          "metadata": {
            "tags": null
          },
          "name": "stderr",
          "output_type": "stream",
          "text": [
            ""
          ]
        },
        {
          "metadata": {
            "tags": null
          },
          "name": "stdout",
          "output_type": "stream",
          "text": [
            "Epoch 29/100 - Avg. Validation Accuracy: -1.8672\n",
            "New latest and best accuracy! Saving model checkpoint to ./trained_model.pth\n"
          ]
        },
        {
          "metadata": {
            "tags": null
          },
          "name": "stderr",
          "output_type": "stream",
          "text": [
            ""
          ]
        },
        {
          "metadata": {
            "tags": null
          },
          "name": "stdout",
          "output_type": "stream",
          "text": [
            "Epoch 30/100 - Avg. Training Loss: 1.4844\n"
          ]
        },
        {
          "metadata": {
            "tags": null
          },
          "name": "stderr",
          "output_type": "stream",
          "text": [
            ""
          ]
        },
        {
          "metadata": {
            "tags": null
          },
          "name": "stdout",
          "output_type": "stream",
          "text": [
            "Epoch 30/100 - Avg. Validation Accuracy: -1.8898\n"
          ]
        },
        {
          "metadata": {
            "tags": null
          },
          "name": "stderr",
          "output_type": "stream",
          "text": [
            ""
          ]
        },
        {
          "metadata": {
            "tags": null
          },
          "name": "stdout",
          "output_type": "stream",
          "text": [
            "Epoch 31/100 - Avg. Training Loss: 1.3868\n"
          ]
        },
        {
          "metadata": {
            "tags": null
          },
          "name": "stderr",
          "output_type": "stream",
          "text": [
            ""
          ]
        },
        {
          "metadata": {
            "tags": null
          },
          "name": "stdout",
          "output_type": "stream",
          "text": [
            "Epoch 31/100 - Avg. Validation Accuracy: -1.8075\n",
            "New latest and best accuracy! Saving model checkpoint to ./trained_model.pth\n"
          ]
        },
        {
          "metadata": {
            "tags": null
          },
          "name": "stderr",
          "output_type": "stream",
          "text": [
            ""
          ]
        },
        {
          "metadata": {
            "tags": null
          },
          "name": "stdout",
          "output_type": "stream",
          "text": [
            "Epoch 32/100 - Avg. Training Loss: 1.5147\n"
          ]
        },
        {
          "metadata": {
            "tags": null
          },
          "name": "stderr",
          "output_type": "stream",
          "text": [
            ""
          ]
        },
        {
          "metadata": {
            "tags": null
          },
          "name": "stdout",
          "output_type": "stream",
          "text": [
            "Epoch 32/100 - Avg. Validation Accuracy: -2.0404\n"
          ]
        },
        {
          "metadata": {
            "tags": null
          },
          "name": "stderr",
          "output_type": "stream",
          "text": [
            ""
          ]
        },
        {
          "metadata": {
            "tags": null
          },
          "name": "stdout",
          "output_type": "stream",
          "text": [
            "Epoch 33/100 - Avg. Training Loss: 1.3730\n"
          ]
        },
        {
          "metadata": {
            "tags": null
          },
          "name": "stderr",
          "output_type": "stream",
          "text": [
            ""
          ]
        },
        {
          "metadata": {
            "tags": null
          },
          "name": "stdout",
          "output_type": "stream",
          "text": [
            "Epoch 33/100 - Avg. Validation Accuracy: -1.9993\n"
          ]
        },
        {
          "metadata": {
            "tags": null
          },
          "name": "stderr",
          "output_type": "stream",
          "text": [
            ""
          ]
        },
        {
          "metadata": {
            "tags": null
          },
          "name": "stdout",
          "output_type": "stream",
          "text": [
            "Epoch 34/100 - Avg. Training Loss: 1.4890\n"
          ]
        },
        {
          "metadata": {
            "tags": null
          },
          "name": "stderr",
          "output_type": "stream",
          "text": [
            ""
          ]
        },
        {
          "metadata": {
            "tags": null
          },
          "name": "stdout",
          "output_type": "stream",
          "text": [
            "Epoch 34/100 - Avg. Validation Accuracy: -2.0510\n"
          ]
        },
        {
          "metadata": {
            "tags": null
          },
          "name": "stderr",
          "output_type": "stream",
          "text": [
            ""
          ]
        },
        {
          "metadata": {
            "tags": null
          },
          "name": "stdout",
          "output_type": "stream",
          "text": [
            "Epoch 35/100 - Avg. Training Loss: 1.4556\n"
          ]
        },
        {
          "metadata": {
            "tags": null
          },
          "name": "stderr",
          "output_type": "stream",
          "text": [
            ""
          ]
        },
        {
          "metadata": {
            "tags": null
          },
          "name": "stdout",
          "output_type": "stream",
          "text": [
            "Epoch 35/100 - Avg. Validation Accuracy: -1.9918\n"
          ]
        },
        {
          "metadata": {
            "tags": null
          },
          "name": "stderr",
          "output_type": "stream",
          "text": [
            ""
          ]
        },
        {
          "metadata": {
            "tags": null
          },
          "name": "stdout",
          "output_type": "stream",
          "text": [
            "Epoch 36/100 - Avg. Training Loss: 1.4324\n"
          ]
        },
        {
          "metadata": {
            "tags": null
          },
          "name": "stderr",
          "output_type": "stream",
          "text": [
            ""
          ]
        },
        {
          "metadata": {
            "tags": null
          },
          "name": "stdout",
          "output_type": "stream",
          "text": [
            "Epoch 36/100 - Avg. Validation Accuracy: -1.8417\n"
          ]
        },
        {
          "metadata": {
            "tags": null
          },
          "name": "stderr",
          "output_type": "stream",
          "text": [
            ""
          ]
        },
        {
          "metadata": {
            "tags": null
          },
          "name": "stdout",
          "output_type": "stream",
          "text": [
            "Epoch 37/100 - Avg. Training Loss: 1.3846\n"
          ]
        },
        {
          "metadata": {
            "tags": null
          },
          "name": "stderr",
          "output_type": "stream",
          "text": [
            ""
          ]
        },
        {
          "metadata": {
            "tags": null
          },
          "name": "stdout",
          "output_type": "stream",
          "text": [
            "Epoch 37/100 - Avg. Validation Accuracy: -1.8048\n",
            "New latest and best accuracy! Saving model checkpoint to ./trained_model.pth\n"
          ]
        },
        {
          "metadata": {
            "tags": null
          },
          "name": "stderr",
          "output_type": "stream",
          "text": [
            ""
          ]
        },
        {
          "metadata": {
            "tags": null
          },
          "name": "stdout",
          "output_type": "stream",
          "text": [
            "Epoch 38/100 - Avg. Training Loss: 1.4544\n"
          ]
        },
        {
          "metadata": {
            "tags": null
          },
          "name": "stderr",
          "output_type": "stream",
          "text": [
            ""
          ]
        },
        {
          "metadata": {
            "tags": null
          },
          "name": "stdout",
          "output_type": "stream",
          "text": [
            "Epoch 38/100 - Avg. Validation Accuracy: -1.8803\n"
          ]
        },
        {
          "metadata": {
            "tags": null
          },
          "name": "stderr",
          "output_type": "stream",
          "text": [
            ""
          ]
        },
        {
          "metadata": {
            "tags": null
          },
          "name": "stdout",
          "output_type": "stream",
          "text": [
            "Epoch 39/100 - Avg. Training Loss: 1.4042\n"
          ]
        },
        {
          "metadata": {
            "tags": null
          },
          "name": "stderr",
          "output_type": "stream",
          "text": [
            ""
          ]
        },
        {
          "metadata": {
            "tags": null
          },
          "name": "stdout",
          "output_type": "stream",
          "text": [
            "Epoch 39/100 - Avg. Validation Accuracy: -1.7022\n",
            "New latest and best accuracy! Saving model checkpoint to ./trained_model.pth\n"
          ]
        },
        {
          "metadata": {
            "tags": null
          },
          "name": "stderr",
          "output_type": "stream",
          "text": [
            ""
          ]
        },
        {
          "metadata": {
            "tags": null
          },
          "name": "stdout",
          "output_type": "stream",
          "text": [
            "Epoch 40/100 - Avg. Training Loss: 1.3179\n"
          ]
        },
        {
          "metadata": {
            "tags": null
          },
          "name": "stderr",
          "output_type": "stream",
          "text": [
            ""
          ]
        },
        {
          "metadata": {
            "tags": null
          },
          "name": "stdout",
          "output_type": "stream",
          "text": [
            "Epoch 40/100 - Avg. Validation Accuracy: -1.8802\n"
          ]
        },
        {
          "metadata": {
            "tags": null
          },
          "name": "stderr",
          "output_type": "stream",
          "text": [
            ""
          ]
        },
        {
          "metadata": {
            "tags": null
          },
          "name": "stdout",
          "output_type": "stream",
          "text": [
            "Epoch 41/100 - Avg. Training Loss: 1.3991\n"
          ]
        },
        {
          "metadata": {
            "tags": null
          },
          "name": "stderr",
          "output_type": "stream",
          "text": [
            ""
          ]
        },
        {
          "metadata": {
            "tags": null
          },
          "name": "stdout",
          "output_type": "stream",
          "text": [
            "Epoch 41/100 - Avg. Validation Accuracy: -1.9971\n"
          ]
        },
        {
          "metadata": {
            "tags": null
          },
          "name": "stderr",
          "output_type": "stream",
          "text": [
            ""
          ]
        },
        {
          "metadata": {
            "tags": null
          },
          "name": "stdout",
          "output_type": "stream",
          "text": [
            "Epoch 42/100 - Avg. Training Loss: 1.3722\n"
          ]
        },
        {
          "metadata": {
            "tags": null
          },
          "name": "stderr",
          "output_type": "stream",
          "text": [
            ""
          ]
        },
        {
          "metadata": {
            "tags": null
          },
          "name": "stdout",
          "output_type": "stream",
          "text": [
            "Epoch 42/100 - Avg. Validation Accuracy: -2.0671\n"
          ]
        },
        {
          "metadata": {
            "tags": null
          },
          "name": "stderr",
          "output_type": "stream",
          "text": [
            ""
          ]
        },
        {
          "metadata": {
            "tags": null
          },
          "name": "stdout",
          "output_type": "stream",
          "text": [
            "Epoch 43/100 - Avg. Training Loss: 1.3419\n"
          ]
        },
        {
          "metadata": {
            "tags": null
          },
          "name": "stderr",
          "output_type": "stream",
          "text": [
            ""
          ]
        },
        {
          "metadata": {
            "tags": null
          },
          "name": "stdout",
          "output_type": "stream",
          "text": [
            "Epoch 43/100 - Avg. Validation Accuracy: -0.8756\n",
            "New latest and best accuracy! Saving model checkpoint to ./trained_model.pth\n"
          ]
        },
        {
          "metadata": {
            "tags": null
          },
          "name": "stderr",
          "output_type": "stream",
          "text": [
            ""
          ]
        },
        {
          "metadata": {
            "tags": null
          },
          "name": "stdout",
          "output_type": "stream",
          "text": [
            "Epoch 44/100 - Avg. Training Loss: 1.3374\n"
          ]
        },
        {
          "metadata": {
            "tags": null
          },
          "name": "stderr",
          "output_type": "stream",
          "text": [
            ""
          ]
        },
        {
          "metadata": {
            "tags": null
          },
          "name": "stdout",
          "output_type": "stream",
          "text": [
            "Epoch 44/100 - Avg. Validation Accuracy: -0.8681\n",
            "New latest and best accuracy! Saving model checkpoint to ./trained_model.pth\n"
          ]
        },
        {
          "metadata": {
            "tags": null
          },
          "name": "stderr",
          "output_type": "stream",
          "text": [
            ""
          ]
        },
        {
          "metadata": {
            "tags": null
          },
          "name": "stdout",
          "output_type": "stream",
          "text": [
            "Epoch 45/100 - Avg. Training Loss: 1.3449\n"
          ]
        },
        {
          "metadata": {
            "tags": null
          },
          "name": "stderr",
          "output_type": "stream",
          "text": [
            ""
          ]
        },
        {
          "metadata": {
            "tags": null
          },
          "name": "stdout",
          "output_type": "stream",
          "text": [
            "Epoch 45/100 - Avg. Validation Accuracy: -0.9159\n"
          ]
        },
        {
          "metadata": {
            "tags": null
          },
          "name": "stderr",
          "output_type": "stream",
          "text": [
            ""
          ]
        },
        {
          "metadata": {
            "tags": null
          },
          "name": "stdout",
          "output_type": "stream",
          "text": [
            "Epoch 46/100 - Avg. Training Loss: 1.2883\n"
          ]
        },
        {
          "metadata": {
            "tags": null
          },
          "name": "stderr",
          "output_type": "stream",
          "text": [
            ""
          ]
        },
        {
          "metadata": {
            "tags": null
          },
          "name": "stdout",
          "output_type": "stream",
          "text": [
            "Epoch 46/100 - Avg. Validation Accuracy: -0.6174\n",
            "New latest and best accuracy! Saving model checkpoint to ./trained_model.pth\n"
          ]
        },
        {
          "metadata": {
            "tags": null
          },
          "name": "stderr",
          "output_type": "stream",
          "text": [
            ""
          ]
        },
        {
          "metadata": {
            "tags": null
          },
          "name": "stdout",
          "output_type": "stream",
          "text": [
            "Epoch 47/100 - Avg. Training Loss: 1.3107\n"
          ]
        },
        {
          "metadata": {
            "tags": null
          },
          "name": "stderr",
          "output_type": "stream",
          "text": [
            ""
          ]
        },
        {
          "metadata": {
            "tags": null
          },
          "name": "stdout",
          "output_type": "stream",
          "text": [
            "Epoch 47/100 - Avg. Validation Accuracy: -0.6146\n",
            "New latest and best accuracy! Saving model checkpoint to ./trained_model.pth\n"
          ]
        },
        {
          "metadata": {
            "tags": null
          },
          "name": "stderr",
          "output_type": "stream",
          "text": [
            ""
          ]
        },
        {
          "metadata": {
            "tags": null
          },
          "name": "stdout",
          "output_type": "stream",
          "text": [
            "Epoch 48/100 - Avg. Training Loss: 1.3435\n"
          ]
        },
        {
          "metadata": {
            "tags": null
          },
          "name": "stderr",
          "output_type": "stream",
          "text": [
            ""
          ]
        },
        {
          "metadata": {
            "tags": null
          },
          "name": "stdout",
          "output_type": "stream",
          "text": [
            "Epoch 48/100 - Avg. Validation Accuracy: -0.7948\n"
          ]
        },
        {
          "metadata": {
            "tags": null
          },
          "name": "stderr",
          "output_type": "stream",
          "text": [
            ""
          ]
        },
        {
          "metadata": {
            "tags": null
          },
          "name": "stdout",
          "output_type": "stream",
          "text": [
            "Epoch 49/100 - Avg. Training Loss: 1.3381\n"
          ]
        },
        {
          "metadata": {
            "tags": null
          },
          "name": "stderr",
          "output_type": "stream",
          "text": [
            ""
          ]
        },
        {
          "metadata": {
            "tags": null
          },
          "name": "stdout",
          "output_type": "stream",
          "text": [
            "Epoch 49/100 - Avg. Validation Accuracy: -0.4121\n",
            "New latest and best accuracy! Saving model checkpoint to ./trained_model.pth\n"
          ]
        },
        {
          "metadata": {
            "tags": null
          },
          "name": "stderr",
          "output_type": "stream",
          "text": [
            ""
          ]
        },
        {
          "metadata": {
            "tags": null
          },
          "name": "stdout",
          "output_type": "stream",
          "text": [
            "Epoch 50/100 - Avg. Training Loss: 1.3443\n"
          ]
        },
        {
          "metadata": {
            "tags": null
          },
          "name": "stderr",
          "output_type": "stream",
          "text": [
            ""
          ]
        },
        {
          "metadata": {
            "tags": null
          },
          "name": "stdout",
          "output_type": "stream",
          "text": [
            "Epoch 50/100 - Avg. Validation Accuracy: -0.1945\n",
            "New latest and best accuracy! Saving model checkpoint to ./trained_model.pth\n"
          ]
        },
        {
          "metadata": {
            "tags": null
          },
          "name": "stderr",
          "output_type": "stream",
          "text": [
            ""
          ]
        },
        {
          "metadata": {
            "tags": null
          },
          "name": "stdout",
          "output_type": "stream",
          "text": [
            "Epoch 51/100 - Avg. Training Loss: 1.2662\n"
          ]
        },
        {
          "metadata": {
            "tags": null
          },
          "name": "stderr",
          "output_type": "stream",
          "text": [
            ""
          ]
        },
        {
          "metadata": {
            "tags": null
          },
          "name": "stdout",
          "output_type": "stream",
          "text": [
            "Epoch 51/100 - Avg. Validation Accuracy: -0.7285\n"
          ]
        },
        {
          "metadata": {
            "tags": null
          },
          "name": "stderr",
          "output_type": "stream",
          "text": [
            ""
          ]
        },
        {
          "metadata": {
            "tags": null
          },
          "name": "stdout",
          "output_type": "stream",
          "text": [
            "Epoch 52/100 - Avg. Training Loss: 1.2633\n"
          ]
        },
        {
          "metadata": {
            "tags": null
          },
          "name": "stderr",
          "output_type": "stream",
          "text": [
            ""
          ]
        },
        {
          "metadata": {
            "tags": null
          },
          "name": "stdout",
          "output_type": "stream",
          "text": [
            "Epoch 52/100 - Avg. Validation Accuracy: -0.2373\n"
          ]
        },
        {
          "metadata": {
            "tags": null
          },
          "name": "stderr",
          "output_type": "stream",
          "text": [
            ""
          ]
        },
        {
          "metadata": {
            "tags": null
          },
          "name": "stdout",
          "output_type": "stream",
          "text": [
            "Epoch 53/100 - Avg. Training Loss: 1.2971\n"
          ]
        },
        {
          "metadata": {
            "tags": null
          },
          "name": "stderr",
          "output_type": "stream",
          "text": [
            ""
          ]
        },
        {
          "metadata": {
            "tags": null
          },
          "name": "stdout",
          "output_type": "stream",
          "text": [
            "Epoch 53/100 - Avg. Validation Accuracy: -0.1577\n",
            "New latest and best accuracy! Saving model checkpoint to ./trained_model.pth\n"
          ]
        },
        {
          "metadata": {
            "tags": null
          },
          "name": "stderr",
          "output_type": "stream",
          "text": [
            ""
          ]
        },
        {
          "metadata": {
            "tags": null
          },
          "name": "stdout",
          "output_type": "stream",
          "text": [
            "Epoch 54/100 - Avg. Training Loss: 1.2444\n"
          ]
        },
        {
          "metadata": {
            "tags": null
          },
          "name": "stderr",
          "output_type": "stream",
          "text": [
            ""
          ]
        },
        {
          "metadata": {
            "tags": null
          },
          "name": "stdout",
          "output_type": "stream",
          "text": [
            "Epoch 54/100 - Avg. Validation Accuracy: -0.1473\n",
            "New latest and best accuracy! Saving model checkpoint to ./trained_model.pth\n"
          ]
        },
        {
          "metadata": {
            "tags": null
          },
          "name": "stderr",
          "output_type": "stream",
          "text": [
            ""
          ]
        },
        {
          "metadata": {
            "tags": null
          },
          "name": "stdout",
          "output_type": "stream",
          "text": [
            "Epoch 55/100 - Avg. Training Loss: 1.2472\n"
          ]
        },
        {
          "metadata": {
            "tags": null
          },
          "name": "stderr",
          "output_type": "stream",
          "text": [
            ""
          ]
        },
        {
          "metadata": {
            "tags": null
          },
          "name": "stdout",
          "output_type": "stream",
          "text": [
            "Epoch 55/100 - Avg. Validation Accuracy: -0.1790\n"
          ]
        },
        {
          "metadata": {
            "tags": null
          },
          "name": "stderr",
          "output_type": "stream",
          "text": [
            ""
          ]
        },
        {
          "metadata": {
            "tags": null
          },
          "name": "stdout",
          "output_type": "stream",
          "text": [
            "Epoch 56/100 - Avg. Training Loss: 1.2458\n"
          ]
        },
        {
          "metadata": {
            "tags": null
          },
          "name": "stderr",
          "output_type": "stream",
          "text": [
            ""
          ]
        },
        {
          "metadata": {
            "tags": null
          },
          "name": "stdout",
          "output_type": "stream",
          "text": [
            "Epoch 56/100 - Avg. Validation Accuracy: -0.1002\n",
            "New latest and best accuracy! Saving model checkpoint to ./trained_model.pth\n"
          ]
        },
        {
          "metadata": {
            "tags": null
          },
          "name": "stderr",
          "output_type": "stream",
          "text": [
            ""
          ]
        },
        {
          "metadata": {
            "tags": null
          },
          "name": "stdout",
          "output_type": "stream",
          "text": [
            "Epoch 57/100 - Avg. Training Loss: 1.2832\n"
          ]
        },
        {
          "metadata": {
            "tags": null
          },
          "name": "stderr",
          "output_type": "stream",
          "text": [
            ""
          ]
        },
        {
          "metadata": {
            "tags": null
          },
          "name": "stdout",
          "output_type": "stream",
          "text": [
            "Epoch 57/100 - Avg. Validation Accuracy: -0.1588\n"
          ]
        },
        {
          "metadata": {
            "tags": null
          },
          "name": "stderr",
          "output_type": "stream",
          "text": [
            ""
          ]
        },
        {
          "metadata": {
            "tags": null
          },
          "name": "stdout",
          "output_type": "stream",
          "text": [
            "Epoch 58/100 - Avg. Training Loss: 1.2203\n"
          ]
        },
        {
          "metadata": {
            "tags": null
          },
          "name": "stderr",
          "output_type": "stream",
          "text": [
            ""
          ]
        },
        {
          "metadata": {
            "tags": null
          },
          "name": "stdout",
          "output_type": "stream",
          "text": [
            "Epoch 58/100 - Avg. Validation Accuracy: -0.1810\n"
          ]
        },
        {
          "metadata": {
            "tags": null
          },
          "name": "stderr",
          "output_type": "stream",
          "text": [
            ""
          ]
        },
        {
          "metadata": {
            "tags": null
          },
          "name": "stdout",
          "output_type": "stream",
          "text": [
            "Epoch 59/100 - Avg. Training Loss: 1.2270\n"
          ]
        },
        {
          "metadata": {
            "tags": null
          },
          "name": "stderr",
          "output_type": "stream",
          "text": [
            ""
          ]
        },
        {
          "metadata": {
            "tags": null
          },
          "name": "stdout",
          "output_type": "stream",
          "text": [
            "Epoch 59/100 - Avg. Validation Accuracy: -0.0607\n",
            "New latest and best accuracy! Saving model checkpoint to ./trained_model.pth\n"
          ]
        },
        {
          "metadata": {
            "tags": null
          },
          "name": "stderr",
          "output_type": "stream",
          "text": [
            ""
          ]
        },
        {
          "metadata": {
            "tags": null
          },
          "name": "stdout",
          "output_type": "stream",
          "text": [
            "Epoch 60/100 - Avg. Training Loss: 1.2402\n"
          ]
        },
        {
          "metadata": {
            "tags": null
          },
          "name": "stderr",
          "output_type": "stream",
          "text": [
            ""
          ]
        },
        {
          "metadata": {
            "tags": null
          },
          "name": "stdout",
          "output_type": "stream",
          "text": [
            "Epoch 60/100 - Avg. Validation Accuracy: -0.1536\n"
          ]
        },
        {
          "metadata": {
            "tags": null
          },
          "name": "stderr",
          "output_type": "stream",
          "text": [
            ""
          ]
        },
        {
          "metadata": {
            "tags": null
          },
          "name": "stdout",
          "output_type": "stream",
          "text": [
            "Epoch 61/100 - Avg. Training Loss: 1.2524\n"
          ]
        },
        {
          "metadata": {
            "tags": null
          },
          "name": "stderr",
          "output_type": "stream",
          "text": [
            ""
          ]
        },
        {
          "metadata": {
            "tags": null
          },
          "name": "stdout",
          "output_type": "stream",
          "text": [
            "Epoch 61/100 - Avg. Validation Accuracy: -0.0613\n"
          ]
        },
        {
          "metadata": {
            "tags": null
          },
          "name": "stderr",
          "output_type": "stream",
          "text": [
            ""
          ]
        },
        {
          "metadata": {
            "tags": null
          },
          "name": "stdout",
          "output_type": "stream",
          "text": [
            "Epoch 62/100 - Avg. Training Loss: 1.2288\n"
          ]
        },
        {
          "metadata": {
            "tags": null
          },
          "name": "stderr",
          "output_type": "stream",
          "text": [
            ""
          ]
        },
        {
          "metadata": {
            "tags": null
          },
          "name": "stdout",
          "output_type": "stream",
          "text": [
            "Epoch 62/100 - Avg. Validation Accuracy: 0.0456\n",
            "New latest and best accuracy! Saving model checkpoint to ./trained_model.pth\n"
          ]
        },
        {
          "metadata": {
            "tags": null
          },
          "name": "stderr",
          "output_type": "stream",
          "text": [
            ""
          ]
        },
        {
          "metadata": {
            "tags": null
          },
          "name": "stdout",
          "output_type": "stream",
          "text": [
            "Epoch 63/100 - Avg. Training Loss: 1.1825\n"
          ]
        },
        {
          "metadata": {
            "tags": null
          },
          "name": "stderr",
          "output_type": "stream",
          "text": [
            ""
          ]
        },
        {
          "metadata": {
            "tags": null
          },
          "name": "stdout",
          "output_type": "stream",
          "text": [
            "Epoch 63/100 - Avg. Validation Accuracy: 0.0838\n",
            "New latest and best accuracy! Saving model checkpoint to ./trained_model.pth\n"
          ]
        },
        {
          "metadata": {
            "tags": null
          },
          "name": "stderr",
          "output_type": "stream",
          "text": [
            ""
          ]
        },
        {
          "metadata": {
            "tags": null
          },
          "name": "stdout",
          "output_type": "stream",
          "text": [
            "Epoch 64/100 - Avg. Training Loss: 1.1977\n"
          ]
        },
        {
          "metadata": {
            "tags": null
          },
          "name": "stderr",
          "output_type": "stream",
          "text": [
            ""
          ]
        },
        {
          "metadata": {
            "tags": null
          },
          "name": "stdout",
          "output_type": "stream",
          "text": [
            "Epoch 64/100 - Avg. Validation Accuracy: 0.0693\n"
          ]
        },
        {
          "metadata": {
            "tags": null
          },
          "name": "stderr",
          "output_type": "stream",
          "text": [
            ""
          ]
        },
        {
          "metadata": {
            "tags": null
          },
          "name": "stdout",
          "output_type": "stream",
          "text": [
            "Epoch 65/100 - Avg. Training Loss: 1.1790\n"
          ]
        },
        {
          "metadata": {
            "tags": null
          },
          "name": "stderr",
          "output_type": "stream",
          "text": [
            ""
          ]
        },
        {
          "metadata": {
            "tags": null
          },
          "name": "stdout",
          "output_type": "stream",
          "text": [
            "Epoch 65/100 - Avg. Validation Accuracy: 0.4597\n",
            "New latest and best accuracy! Saving model checkpoint to ./trained_model.pth\n"
          ]
        },
        {
          "metadata": {
            "tags": null
          },
          "name": "stderr",
          "output_type": "stream",
          "text": [
            ""
          ]
        },
        {
          "metadata": {
            "tags": null
          },
          "name": "stdout",
          "output_type": "stream",
          "text": [
            "Epoch 66/100 - Avg. Training Loss: 1.1694\n"
          ]
        },
        {
          "metadata": {
            "tags": null
          },
          "name": "stderr",
          "output_type": "stream",
          "text": [
            ""
          ]
        },
        {
          "metadata": {
            "tags": null
          },
          "name": "stdout",
          "output_type": "stream",
          "text": [
            "Epoch 66/100 - Avg. Validation Accuracy: 0.4445\n"
          ]
        },
        {
          "metadata": {
            "tags": null
          },
          "name": "stderr",
          "output_type": "stream",
          "text": [
            ""
          ]
        },
        {
          "metadata": {
            "tags": null
          },
          "name": "stdout",
          "output_type": "stream",
          "text": [
            "Epoch 67/100 - Avg. Training Loss: 1.1577\n"
          ]
        },
        {
          "metadata": {
            "tags": null
          },
          "name": "stderr",
          "output_type": "stream",
          "text": [
            ""
          ]
        },
        {
          "metadata": {
            "tags": null
          },
          "name": "stdout",
          "output_type": "stream",
          "text": [
            "Epoch 67/100 - Avg. Validation Accuracy: 0.4853\n",
            "New latest and best accuracy! Saving model checkpoint to ./trained_model.pth\n"
          ]
        },
        {
          "metadata": {
            "tags": null
          },
          "name": "stderr",
          "output_type": "stream",
          "text": [
            ""
          ]
        },
        {
          "metadata": {
            "tags": null
          },
          "name": "stdout",
          "output_type": "stream",
          "text": [
            "Epoch 68/100 - Avg. Training Loss: 1.1650\n"
          ]
        },
        {
          "metadata": {
            "tags": null
          },
          "name": "stderr",
          "output_type": "stream",
          "text": [
            ""
          ]
        },
        {
          "metadata": {
            "tags": null
          },
          "name": "stdout",
          "output_type": "stream",
          "text": [
            "Epoch 68/100 - Avg. Validation Accuracy: 0.3511\n"
          ]
        },
        {
          "metadata": {
            "tags": null
          },
          "name": "stderr",
          "output_type": "stream",
          "text": [
            ""
          ]
        },
        {
          "metadata": {
            "tags": null
          },
          "name": "stdout",
          "output_type": "stream",
          "text": [
            "Epoch 69/100 - Avg. Training Loss: 1.1395\n"
          ]
        },
        {
          "metadata": {
            "tags": null
          },
          "name": "stderr",
          "output_type": "stream",
          "text": [
            ""
          ]
        },
        {
          "metadata": {
            "tags": null
          },
          "name": "stdout",
          "output_type": "stream",
          "text": [
            "Epoch 69/100 - Avg. Validation Accuracy: 0.4513\n"
          ]
        },
        {
          "metadata": {
            "tags": null
          },
          "name": "stderr",
          "output_type": "stream",
          "text": [
            ""
          ]
        },
        {
          "metadata": {
            "tags": null
          },
          "name": "stdout",
          "output_type": "stream",
          "text": [
            "Epoch 70/100 - Avg. Training Loss: 1.1207\n"
          ]
        },
        {
          "metadata": {
            "tags": null
          },
          "name": "stderr",
          "output_type": "stream",
          "text": [
            ""
          ]
        },
        {
          "metadata": {
            "tags": null
          },
          "name": "stdout",
          "output_type": "stream",
          "text": [
            "Epoch 70/100 - Avg. Validation Accuracy: 0.4133\n"
          ]
        },
        {
          "metadata": {
            "tags": null
          },
          "name": "stderr",
          "output_type": "stream",
          "text": [
            ""
          ]
        },
        {
          "metadata": {
            "tags": null
          },
          "name": "stdout",
          "output_type": "stream",
          "text": [
            "Epoch 71/100 - Avg. Training Loss: 1.1401\n"
          ]
        },
        {
          "metadata": {
            "tags": null
          },
          "name": "stderr",
          "output_type": "stream",
          "text": [
            ""
          ]
        },
        {
          "metadata": {
            "tags": null
          },
          "name": "stdout",
          "output_type": "stream",
          "text": [
            "Epoch 71/100 - Avg. Validation Accuracy: 0.4345\n"
          ]
        },
        {
          "metadata": {
            "tags": null
          },
          "name": "stderr",
          "output_type": "stream",
          "text": [
            ""
          ]
        },
        {
          "metadata": {
            "tags": null
          },
          "name": "stdout",
          "output_type": "stream",
          "text": [
            "Epoch 72/100 - Avg. Training Loss: 1.0965\n"
          ]
        },
        {
          "metadata": {
            "tags": null
          },
          "name": "stderr",
          "output_type": "stream",
          "text": [
            ""
          ]
        },
        {
          "metadata": {
            "tags": null
          },
          "name": "stdout",
          "output_type": "stream",
          "text": [
            "Epoch 72/100 - Avg. Validation Accuracy: 0.4358\n"
          ]
        },
        {
          "metadata": {
            "tags": null
          },
          "name": "stderr",
          "output_type": "stream",
          "text": [
            ""
          ]
        },
        {
          "metadata": {
            "tags": null
          },
          "name": "stdout",
          "output_type": "stream",
          "text": [
            "Epoch 73/100 - Avg. Training Loss: 1.1009\n"
          ]
        },
        {
          "metadata": {
            "tags": null
          },
          "name": "stderr",
          "output_type": "stream",
          "text": [
            ""
          ]
        },
        {
          "metadata": {
            "tags": null
          },
          "name": "stdout",
          "output_type": "stream",
          "text": [
            "Epoch 73/100 - Avg. Validation Accuracy: 0.4763\n"
          ]
        },
        {
          "metadata": {
            "tags": null
          },
          "name": "stderr",
          "output_type": "stream",
          "text": [
            ""
          ]
        },
        {
          "metadata": {
            "tags": null
          },
          "name": "stdout",
          "output_type": "stream",
          "text": [
            "Epoch 74/100 - Avg. Training Loss: 1.1030\n"
          ]
        },
        {
          "metadata": {
            "tags": null
          },
          "name": "stderr",
          "output_type": "stream",
          "text": [
            ""
          ]
        },
        {
          "metadata": {
            "tags": null
          },
          "name": "stdout",
          "output_type": "stream",
          "text": [
            "Epoch 74/100 - Avg. Validation Accuracy: 0.4983\n",
            "New latest and best accuracy! Saving model checkpoint to ./trained_model.pth\n"
          ]
        },
        {
          "metadata": {
            "tags": null
          },
          "name": "stderr",
          "output_type": "stream",
          "text": [
            ""
          ]
        },
        {
          "metadata": {
            "tags": null
          },
          "name": "stdout",
          "output_type": "stream",
          "text": [
            "Epoch 75/100 - Avg. Training Loss: 1.0771\n"
          ]
        },
        {
          "metadata": {
            "tags": null
          },
          "name": "stderr",
          "output_type": "stream",
          "text": [
            ""
          ]
        },
        {
          "metadata": {
            "tags": null
          },
          "name": "stdout",
          "output_type": "stream",
          "text": [
            "Epoch 75/100 - Avg. Validation Accuracy: 0.5037\n",
            "New latest and best accuracy! Saving model checkpoint to ./trained_model.pth\n"
          ]
        },
        {
          "metadata": {
            "tags": null
          },
          "name": "stderr",
          "output_type": "stream",
          "text": [
            ""
          ]
        },
        {
          "metadata": {
            "tags": null
          },
          "name": "stdout",
          "output_type": "stream",
          "text": [
            "Epoch 76/100 - Avg. Training Loss: 1.0604\n"
          ]
        },
        {
          "metadata": {
            "tags": null
          },
          "name": "stderr",
          "output_type": "stream",
          "text": [
            ""
          ]
        },
        {
          "metadata": {
            "tags": null
          },
          "name": "stdout",
          "output_type": "stream",
          "text": [
            "Epoch 76/100 - Avg. Validation Accuracy: 0.4531\n"
          ]
        },
        {
          "metadata": {
            "tags": null
          },
          "name": "stderr",
          "output_type": "stream",
          "text": [
            ""
          ]
        },
        {
          "metadata": {
            "tags": null
          },
          "name": "stdout",
          "output_type": "stream",
          "text": [
            "Epoch 77/100 - Avg. Training Loss: 1.0679\n"
          ]
        },
        {
          "metadata": {
            "tags": null
          },
          "name": "stderr",
          "output_type": "stream",
          "text": [
            ""
          ]
        },
        {
          "metadata": {
            "tags": null
          },
          "name": "stdout",
          "output_type": "stream",
          "text": [
            "Epoch 77/100 - Avg. Validation Accuracy: 0.4720\n"
          ]
        },
        {
          "metadata": {
            "tags": null
          },
          "name": "stderr",
          "output_type": "stream",
          "text": [
            ""
          ]
        },
        {
          "metadata": {
            "tags": null
          },
          "name": "stdout",
          "output_type": "stream",
          "text": [
            "Epoch 78/100 - Avg. Training Loss: 1.0674\n"
          ]
        },
        {
          "metadata": {
            "tags": null
          },
          "name": "stderr",
          "output_type": "stream",
          "text": [
            ""
          ]
        },
        {
          "metadata": {
            "tags": null
          },
          "name": "stdout",
          "output_type": "stream",
          "text": [
            "Epoch 78/100 - Avg. Validation Accuracy: 0.3325\n"
          ]
        },
        {
          "metadata": {
            "tags": null
          },
          "name": "stderr",
          "output_type": "stream",
          "text": [
            ""
          ]
        },
        {
          "metadata": {
            "tags": null
          },
          "name": "stdout",
          "output_type": "stream",
          "text": [
            "Epoch 79/100 - Avg. Training Loss: 1.0618\n"
          ]
        },
        {
          "metadata": {
            "tags": null
          },
          "name": "stderr",
          "output_type": "stream",
          "text": [
            ""
          ]
        },
        {
          "metadata": {
            "tags": null
          },
          "name": "stdout",
          "output_type": "stream",
          "text": [
            "Epoch 79/100 - Avg. Validation Accuracy: 0.4321\n"
          ]
        },
        {
          "metadata": {
            "tags": null
          },
          "name": "stderr",
          "output_type": "stream",
          "text": [
            ""
          ]
        },
        {
          "metadata": {
            "tags": null
          },
          "name": "stdout",
          "output_type": "stream",
          "text": [
            "Epoch 80/100 - Avg. Training Loss: 1.0075\n"
          ]
        },
        {
          "metadata": {
            "tags": null
          },
          "name": "stderr",
          "output_type": "stream",
          "text": [
            ""
          ]
        },
        {
          "metadata": {
            "tags": null
          },
          "name": "stdout",
          "output_type": "stream",
          "text": [
            "Epoch 80/100 - Avg. Validation Accuracy: 0.4779\n"
          ]
        },
        {
          "metadata": {
            "tags": null
          },
          "name": "stderr",
          "output_type": "stream",
          "text": [
            ""
          ]
        },
        {
          "metadata": {
            "tags": null
          },
          "name": "stdout",
          "output_type": "stream",
          "text": [
            "Epoch 81/100 - Avg. Training Loss: 1.0309\n"
          ]
        },
        {
          "metadata": {
            "tags": null
          },
          "name": "stderr",
          "output_type": "stream",
          "text": [
            ""
          ]
        },
        {
          "metadata": {
            "tags": null
          },
          "name": "stdout",
          "output_type": "stream",
          "text": [
            "Epoch 81/100 - Avg. Validation Accuracy: 0.4752\n"
          ]
        },
        {
          "metadata": {
            "tags": null
          },
          "name": "stderr",
          "output_type": "stream",
          "text": [
            ""
          ]
        },
        {
          "metadata": {
            "tags": null
          },
          "name": "stdout",
          "output_type": "stream",
          "text": [
            "Epoch 82/100 - Avg. Training Loss: 1.0681\n"
          ]
        },
        {
          "metadata": {
            "tags": null
          },
          "name": "stderr",
          "output_type": "stream",
          "text": [
            ""
          ]
        },
        {
          "metadata": {
            "tags": null
          },
          "name": "stdout",
          "output_type": "stream",
          "text": [
            "Epoch 82/100 - Avg. Validation Accuracy: 0.4852\n"
          ]
        },
        {
          "output_type": "stream",
          "name": "stderr",
          "text": []
        },
        {
          "output_type": "stream",
          "name": "stdout",
          "text": [
            "Epoch 83/100 - Avg. Training Loss: 1.0017\n"
          ]
        },
        {
          "output_type": "stream",
          "name": "stderr",
          "text": []
        },
        {
          "output_type": "stream",
          "name": "stdout",
          "text": [
            "Epoch 83/100 - Avg. Validation Accuracy: 0.4340\n"
          ]
        },
        {
          "output_type": "stream",
          "name": "stderr",
          "text": []
        },
        {
          "output_type": "stream",
          "name": "stdout",
          "text": [
            "Epoch 84/100 - Avg. Training Loss: 1.0405\n"
          ]
        },
        {
          "output_type": "stream",
          "name": "stderr",
          "text": []
        },
        {
          "output_type": "stream",
          "name": "stdout",
          "text": [
            "Epoch 84/100 - Avg. Validation Accuracy: 0.4677\n"
          ]
        },
        {
          "output_type": "stream",
          "name": "stderr",
          "text": []
        },
        {
          "output_type": "stream",
          "name": "stdout",
          "text": [
            "Epoch 85/100 - Avg. Training Loss: 0.9503\n"
          ]
        },
        {
          "output_type": "stream",
          "name": "stderr",
          "text": []
        },
        {
          "output_type": "stream",
          "name": "stdout",
          "text": [
            "Epoch 85/100 - Avg. Validation Accuracy: 0.2393\n"
          ]
        },
        {
          "output_type": "stream",
          "name": "stderr",
          "text": []
        },
        {
          "output_type": "stream",
          "name": "stdout",
          "text": [
            "Epoch 86/100 - Avg. Training Loss: 0.9438\n"
          ]
        },
        {
          "output_type": "stream",
          "name": "stderr",
          "text": []
        },
        {
          "output_type": "stream",
          "name": "stdout",
          "text": [
            "Epoch 86/100 - Avg. Validation Accuracy: 0.2951\n"
          ]
        },
        {
          "output_type": "stream",
          "name": "stderr",
          "text": []
        },
        {
          "output_type": "stream",
          "name": "stdout",
          "text": [
            "Epoch 87/100 - Avg. Training Loss: 0.9253\n"
          ]
        },
        {
          "output_type": "stream",
          "name": "stderr",
          "text": []
        },
        {
          "output_type": "stream",
          "name": "stdout",
          "text": [
            "Epoch 87/100 - Avg. Validation Accuracy: 0.3959\n"
          ]
        },
        {
          "output_type": "stream",
          "name": "stderr",
          "text": []
        },
        {
          "output_type": "stream",
          "name": "stdout",
          "text": [
            "Epoch 88/100 - Avg. Training Loss: 0.9842\n"
          ]
        },
        {
          "output_type": "stream",
          "name": "stderr",
          "text": []
        },
        {
          "output_type": "stream",
          "name": "stdout",
          "text": [
            "Epoch 88/100 - Avg. Validation Accuracy: 0.3169\n"
          ]
        },
        {
          "output_type": "stream",
          "name": "stderr",
          "text": []
        },
        {
          "output_type": "stream",
          "name": "stdout",
          "text": [
            "Epoch 89/100 - Avg. Training Loss: 0.9527\n"
          ]
        },
        {
          "output_type": "stream",
          "name": "stderr",
          "text": []
        },
        {
          "output_type": "stream",
          "name": "stdout",
          "text": [
            "Epoch 89/100 - Avg. Validation Accuracy: 0.4544\n"
          ]
        },
        {
          "output_type": "stream",
          "name": "stderr",
          "text": []
        },
        {
          "output_type": "stream",
          "name": "stdout",
          "text": [
            "Epoch 90/100 - Avg. Training Loss: 0.9783\n"
          ]
        },
        {
          "output_type": "stream",
          "name": "stderr",
          "text": []
        },
        {
          "output_type": "stream",
          "name": "stdout",
          "text": [
            "Epoch 90/100 - Avg. Validation Accuracy: 0.4730\n"
          ]
        },
        {
          "output_type": "stream",
          "name": "stderr",
          "text": []
        },
        {
          "output_type": "stream",
          "name": "stdout",
          "text": [
            "Epoch 91/100 - Avg. Training Loss: 0.9435\n"
          ]
        },
        {
          "output_type": "stream",
          "name": "stderr",
          "text": []
        },
        {
          "output_type": "stream",
          "name": "stdout",
          "text": [
            "Epoch 91/100 - Avg. Validation Accuracy: 0.4492\n"
          ]
        },
        {
          "output_type": "stream",
          "name": "stderr",
          "text": []
        },
        {
          "output_type": "stream",
          "name": "stdout",
          "text": [
            "Epoch 92/100 - Avg. Training Loss: 0.8931\n"
          ]
        },
        {
          "output_type": "stream",
          "name": "stderr",
          "text": []
        },
        {
          "output_type": "stream",
          "name": "stdout",
          "text": [
            "Epoch 92/100 - Avg. Validation Accuracy: 0.4559\n"
          ]
        },
        {
          "output_type": "stream",
          "name": "stderr",
          "text": []
        },
        {
          "output_type": "stream",
          "name": "stdout",
          "text": [
            "Epoch 93/100 - Avg. Training Loss: 0.8951\n"
          ]
        },
        {
          "output_type": "stream",
          "name": "stderr",
          "text": []
        },
        {
          "output_type": "stream",
          "name": "stdout",
          "text": [
            "Epoch 93/100 - Avg. Validation Accuracy: 0.5010\n"
          ]
        },
        {
          "output_type": "stream",
          "name": "stderr",
          "text": []
        },
        {
          "output_type": "stream",
          "name": "stdout",
          "text": [
            "Epoch 94/100 - Avg. Training Loss: 0.9432\n"
          ]
        },
        {
          "output_type": "stream",
          "name": "stderr",
          "text": []
        },
        {
          "output_type": "stream",
          "name": "stdout",
          "text": [
            "Epoch 94/100 - Avg. Validation Accuracy: 0.3609\n"
          ]
        },
        {
          "output_type": "stream",
          "name": "stderr",
          "text": []
        },
        {
          "output_type": "stream",
          "name": "stdout",
          "text": [
            "Epoch 95/100 - Avg. Training Loss: 0.9084\n"
          ]
        },
        {
          "output_type": "stream",
          "name": "stderr",
          "text": []
        },
        {
          "output_type": "stream",
          "name": "stdout",
          "text": [
            "Epoch 95/100 - Avg. Validation Accuracy: 0.5291\n",
            "New latest and best accuracy! Saving model checkpoint to ./trained_model.pth\n"
          ]
        },
        {
          "output_type": "stream",
          "name": "stderr",
          "text": []
        },
        {
          "output_type": "stream",
          "name": "stdout",
          "text": [
            "Epoch 96/100 - Avg. Training Loss: 0.8924\n"
          ]
        },
        {
          "output_type": "stream",
          "name": "stderr",
          "text": []
        },
        {
          "output_type": "stream",
          "name": "stdout",
          "text": [
            "Epoch 96/100 - Avg. Validation Accuracy: 0.3330\n"
          ]
        },
        {
          "output_type": "stream",
          "name": "stderr",
          "text": []
        },
        {
          "output_type": "stream",
          "name": "stdout",
          "text": [
            "Epoch 97/100 - Avg. Training Loss: 0.8452\n"
          ]
        },
        {
          "output_type": "stream",
          "name": "stderr",
          "text": []
        },
        {
          "output_type": "stream",
          "name": "stdout",
          "text": [
            "Epoch 97/100 - Avg. Validation Accuracy: 0.3214\n"
          ]
        },
        {
          "output_type": "stream",
          "name": "stderr",
          "text": []
        },
        {
          "output_type": "stream",
          "name": "stdout",
          "text": [
            "Epoch 98/100 - Avg. Training Loss: 0.8520\n"
          ]
        },
        {
          "output_type": "stream",
          "name": "stderr",
          "text": []
        },
        {
          "output_type": "stream",
          "name": "stdout",
          "text": [
            "Epoch 98/100 - Avg. Validation Accuracy: 0.3114\n"
          ]
        },
        {
          "output_type": "stream",
          "name": "stderr",
          "text": []
        },
        {
          "output_type": "stream",
          "name": "stdout",
          "text": [
            "Epoch 99/100 - Avg. Training Loss: 0.9257\n"
          ]
        },
        {
          "output_type": "stream",
          "name": "stderr",
          "text": []
        },
        {
          "output_type": "stream",
          "name": "stdout",
          "text": [
            "Epoch 99/100 - Avg. Validation Accuracy: 0.3647\n"
          ]
        },
        {
          "output_type": "stream",
          "name": "stderr",
          "text": []
        },
        {
          "output_type": "stream",
          "name": "stdout",
          "text": [
            "Epoch 100/100 - Avg. Training Loss: 0.9063\n"
          ]
        },
        {
          "output_type": "stream",
          "name": "stderr",
          "text": []
        },
        {
          "output_type": "stream",
          "name": "stdout",
          "text": [
            "Epoch 100/100 - Avg. Validation Accuracy: 0.3257\n"
          ]
        },
        {
          "output_type": "display_data",
          "data": {
            "text/plain": [
              "<Figure size 640x480 with 1 Axes>"
            ],
            "image/png": "[encoded data removed]"
          },
          "metadata": {}
        }
      ],
      "source": [
        "optimizer = torch.optim.AdamW(model.parameters(), lr=learning_rate)  # You can choose a different optimizer if you wish\n",
        "\n",
        "# Resume a previous training session if applicable\n",
        "if os.path.exists(CHECKPOINT_PATH):\n",
        "    checkpoint = torch.load(CHECKPOINT_PATH)\n",
        "    model.load_state_dict(checkpoint['model_state_dict'])\n",
        "    optimizer.load_state_dict(checkpoint['optimizer_state_dict'])\n",
        "    start_epoch = checkpoint['epoch'] + 1\n",
        "    best_accuracy = checkpoint['accuracy']\n",
        "    warnings.warn(f\"\\n\\nFound model checkpoint at {CHECKPOINT_PATH}.\\n\"\n",
        "                  f\"Loaded model and optimizer from epoch {checkpoint['epoch']}.\")\n",
        "    warnings.warn(f\"\\n\\nValidation accuracy: {checkpoint['accuracy']}\")\n",
        "    warnings.warn(f\"\\n\\nLoss: {checkpoint['loss']}\")\n",
        "else:\n",
        "    start_epoch = 1\n",
        "    best_accuracy = float('-inf')\n",
        "    warnings.warn(\"\\n\\nNo model checkpoint found.\\nStarting from scratch.\")\n",
        "\n",
        "# IMPORTANT: Save/load the dataloaders to ensure same data order and data split across different runtimes\n",
        "if os.path.exists(DATALOADER_PATH):\n",
        "    checkpoint = torch.load(DATALOADER_PATH)\n",
        "    train_dataloader = checkpoint['train_dataloader']\n",
        "    val_dataloader = checkpoint['val_dataloader']\n",
        "    test_dataloader = checkpoint['test_dataloader']\n",
        "    warnings.warn(f\"\\n\\nFound saved dataloaders at {DATALOADER_PATH}.\\n\"\n",
        "                  f\"Loaded dataloaders (specifying a previous data order and data slit).\")\n",
        "else:\n",
        "    train_dataloader = DataLoader(train_data, batch_size=batch_size, shuffle=True, collate_fn=collate_fn)\n",
        "    val_dataloader = DataLoader(val_data, batch_size=len(val_data), shuffle=False, collate_fn=collate_fn)\n",
        "    test_dataloader = DataLoader(test_data, batch_size=len(test_data), shuffle=False, collate_fn=collate_fn)\n",
        "    torch.save({\n",
        "        'train_dataloader': train_dataloader,\n",
        "        'val_dataloader': val_dataloader,\n",
        "        'test_dataloader': test_dataloader,\n",
        "    }, DATALOADER_PATH)\n",
        "    warnings.warn(\"\\n\\nStarting with new data order and data slit.\")\n",
        "\n",
        "\n",
        "# Train the model\n",
        "trained_model, loss_progress, val_progress = train_model(model, optimizer, train_dataloader, val_dataloader, epochs, best_accuracy)\n",
        "\n",
        "# Plot the training loss and validation progression on the same graph over epochs\n",
        "plt.plot(loss_progress, label='Training Loss')\n",
        "plt.plot(val_progress, label='Validation Accuracy')\n",
        "plt.xlabel('Epoch')\n",
        "plt.ylabel('Loss/accuracy')\n",
        "plt.legend()\n",
        "plt.show()"
      ]
    },
    {
      "cell_type": "code",
      "source": [
        "# Get the model's R-squared score on the test data, this step should be quite\n",
        "# similar to what we have for the validation phase above\n",
        "test_dataloader = DataLoader(test_data, batch_size=len(test_data), shuffle=False, collate_fn=collate_fn)\n",
        "model.eval()\n",
        "with torch.no_grad():\n",
        "  for batch in test_dataloader:\n",
        "    input_ids = batch['input_ids'].to(device)\n",
        "    attention_mask = batch['attention_mask'].to(device)\n",
        "    labels = batch['labels'].to(device)\n",
        "    generate_outputs = model.generate(input_ids=input_ids, attention_mask=attention_mask, max_new_tokens=10)\n",
        "    decoded_preds = tokenizer.batch_decode(generate_outputs, skip_special_tokens=True)\n",
        "    decoded_labels = tokenizer.batch_decode(labels, skip_special_tokens=True)\n",
        "    try:\n",
        "      predicted_values = [float(pred) for pred in decoded_preds]\n",
        "      actual_values = [float(label) for label in decoded_labels]\n",
        "      test_score = sklearn.metrics.r2_score(predicted_values, actual_values)\n",
        "    except ValueError:\n",
        "      test_score = float('-inf')\n",
        "print(f\"Test Accuracy: {test_score:.4f}\")"
      ],
      "metadata": {
        "colab": {
          "base_uri": "https://localhost:8080/"
        },
        "id": "qTpNICjlIaAs",
        "outputId": "96533b23-f8e5-4c7e-a5b8-8ed35b3add74"
      },
      "execution_count": 24,
      "outputs": [
        {
          "output_type": "stream",
          "name": "stdout",
          "text": [
            "Test Accuracy: 0.6171\n"
          ]
        }
      ]
    },
    {
      "cell_type": "markdown",
      "metadata": {
        "id": "dsU0eMzBX-nc"
      },
      "source": [
        "# Part 3: Comparison Study\n",
        "Let's look at alternative models commonly used in ML ([linear regression](https://scikit-learn.org/1.5/modules/generated/sklearn.linear_model.LinearRegression.html), [decision tree learning](https://scikit-learn.org/1.5/modules/tree.html), [random forest, XG boost](https://scikit-learn.org/1.5/modules/ensemble.html)) and have proven to be very powerful in modeling large datasets. You might have already learned some of them in this and other AI/ML-topic courses. SKLearn provides a fast and convenient pipeline for us to load up different ML models and train/cross-validate them."
      ]
    },
    {
      "cell_type": "code",
      "execution_count": 25,
      "metadata": {
        "id": "g4xDP6PiYUoC",
        "colab": {
          "base_uri": "https://localhost:8080/"
        },
        "outputId": "df60d1cf-701f-4cfb-a942-e53c7ca76274"
      },
      "outputs": [
        {
          "output_type": "stream",
          "name": "stdout",
          "text": [
            "LinearRegression:\n",
            "Train Accuracy: 0.7493\n",
            "Validation Accuracy: 0.3533\n",
            "\n",
            "DecisionTreeRegressor:\n",
            "Train Accuracy: 1.0000\n",
            "Validation Accuracy: 0.1719\n",
            "\n",
            "RandomForestRegressor:\n",
            "Train Accuracy: 0.9830\n",
            "Validation Accuracy: 0.6485\n",
            "\n",
            "GradientBoostingRegressor:\n",
            "Train Accuracy: 0.9788\n",
            "Validation Accuracy: 0.6792\n",
            "\n"
          ]
        }
      ],
      "source": [
        "from sklearn.linear_model import LinearRegression\n",
        "from sklearn.tree import DecisionTreeRegressor\n",
        "from sklearn.ensemble import RandomForestRegressor\n",
        "from sklearn.ensemble import GradientBoostingRegressor\n",
        "from sklearn.model_selection import cross_validate\n",
        "from sklearn.preprocessing import StandardScaler\n",
        "\n",
        "def train_other_ML_models(X, y):\n",
        "    for model in [LinearRegression(),\n",
        "                  DecisionTreeRegressor(),\n",
        "                  RandomForestRegressor(),\n",
        "                  GradientBoostingRegressor()]:\n",
        "        scores = cross_validate(model, X, y, cv=5, return_train_score=True)\n",
        "        # Average over the different fold-divisions and print results\n",
        "        print(f\"{model.__class__.__name__}:\")\n",
        "        print(f\"Train Accuracy: {scores['train_score'].mean():.4f}\")\n",
        "        print(f\"Validation Accuracy: {scores['test_score'].mean():.4f}\")\n",
        "        print()\n",
        "\n",
        "\n",
        "# Normalize the data for other ML models\n",
        "numeric_features = data.select_dtypes(include=['int64', 'float64'])\n",
        "scaler = StandardScaler()\n",
        "scaled_features = scaler.fit_transform(numeric_features.drop(columns=['MEDV']))\n",
        "\n",
        "train_other_ML_models(\n",
        "    X=scaled_features,\n",
        "    y=numeric_features['MEDV']\n",
        ")"
      ]
    },
    {
      "cell_type": "markdown",
      "metadata": {
        "id": "GzqsJJnFY2k7"
      },
      "source": [
        "# Part 4: Final Report and Student's Reflection\n",
        "\n",
        "From your experiments in the previous parts, answer each of the following 14 questions (200 words or less for each question). Please type your answer below each of the questions (you can edit the text cell by double click on a word in the cell):\n",
        "\n",
        "### 1. Report ALL the hyperparameters you've used in training the T5 model on the Boston house price prediction task (e.g. what is the train-val-test split percentage? how many epochs did you train the model? etc.).\n",
        "\n",
        "-> Train-Validation-Test split: Training Data: 70% of the original dataset.\n",
        "Validation Data: 15% of the original dataset.\n",
        "Test Data: 15% of the original dataset.\n",
        "\n",
        "Epochs: 100 epochs.\n",
        "\n",
        "Learning rate = 1e-4  \n",
        "\n",
        "Batch size = 32\n",
        "\n",
        "Loss Function: Cross-entropy\n",
        "\n",
        "Validation Metrics: Validation accuracy and R-squared score.\n",
        "\n",
        "\n",
        "### 2. Did you try different values for each hyperparameter? What are they? Which value(s) you have found to be the best at helping the model reach higher test accuracy?\n",
        "\n",
        "-> Yes, during the training of the T5 model for predicting Boston house prices, I experimented with several hyperparameters to optimize the model’s performance.\n",
        "\n",
        "Epochs: I tried different numbers of epochs, ranging from 50 and 100, to determine the point at which the model started overfitting. The model performed best with 100 epochs, striking a balance between sufficient training time and avoiding overfitting. Training for fewer epochs (e.g., 50) didn't allow the model to fully learn the complex patterns.\n",
        "\n",
        "Learning rate: I experimented with a range of learning rates: 1e-4, 1e-3, and 1e-2. The learning rate of 1e-4 provided the best balance between convergence speed and stability. A smaller learning rate resulted in slower convergence, making training time longer, while larger learning rates led to instability in training, with the model's accuracy fluctuating significantly.\n",
        "\n",
        "### 3. Report the final model training loss and its accuracy on the held-out test data.\n",
        "\n",
        "-> Final Training Loss: ~0.9063 after 100 epochs.\n",
        "\n",
        "Test R-squared Score: 0.6171.\n",
        "\n",
        "### 4. What is the model's test accuracy (R-squared score) if it always answer with the average value over the housing prices in the dataset regardless of the input features? Did your trained model do better than that score?\n",
        "\n",
        "-> If the model always predicts the average house price, the R² score would be 0, as the predictions wouldn't capture variance in the data.\n",
        "\n",
        "The trained model achieved R² = 0.6171, meaning it outperformed the baseline by explaining ~61.71% of the variance in the test data.\n",
        "\n",
        "### 5. There is no correct answer to this question. From your results, do you think it understand the human housing market? to what degree does it do/don't? how do you think the modality difference (the strict numerical pricing values versus the loosely defined textual price format) impact the learning of our language model? did you notice highly discontinuous and erratic jumps in the model's validation score over the training epochs (e.g. it goes from -inf to -0.5 to -155.3 to 0.33, etc. in immediate steps)? why?\n",
        "##### Hint: pay attention to how the model's inner workings are numerical computations (matrix multiplications and additions) but it must work with and adapt to discrete tokens at its input and output endpoints.\n",
        "\n",
        "-> The model doesn’t truly “understand” the market in a human sense. It predicts prices based on patterns in the data, but erratic validation accuracies (e.g., -inf to 0.33) and overfitting suggest difficulty with strict numerical pricing. This is due to:\n",
        "\n",
        "Modality mismatch: T5 adapts text-based embeddings for numerical predictions, which introduces noise and instability.\n",
        "Highly discontinuous loss values (e.g., jumps from -inf to -155.3) occur because T5 isn’t optimized for precise numeric tasks.\n",
        "Overall, the model captures trends but struggles with numerical precision.\n",
        "\n",
        "### 6. What part of the T5's pre-trained internet data you think might have helped its performance on our Boston house price prediction task?\n",
        "\n",
        "-> T5's exposure to real-world datasets (e.g., text on housing markets, numeric values in datasets, or general regression-related information) likely helped with:\n",
        "\n",
        "Understanding contextual patterns in text-to-value mappings.\n",
        "Generalizing from sparse training data.\n",
        "\n",
        "\n",
        "### 7. What part of the T5's pre-trained internet data you think might have hurt its performance on our Boston house price prediction task?\n",
        "\n",
        "-> T5 might struggle with:\n",
        "\n",
        "Noise in pre-trained embeddings related to textual, non-numeric contexts.\n",
        "Bias toward linguistic understanding over numerical accuracy.\n",
        "Overfitting to text-based knowledge unrelated to housing prices.\n",
        "\n",
        "### 8. Did you observe the model overfitting (complete memorization of) our training data? how do you know it did/didn't?\n",
        "\n",
        "-> The model did not evidently overfit. The validation accuracy fluctuated during training, indicating that the model was still learning patterns rather than memorizing the data. If overfitting occurred, we would expect the training accuracy to significantly outperform validation accuracy. However, the model showed gradual improvements, and the validation accuracy did not plateau or decrease drastically while the training accuracy continued to rise. But overfitting features were seen lightly -\n",
        "Training loss continually decreased, but validation accuracy was erratic and lower.\n",
        "\n",
        "### 9. What is the perfect number of training epochs that you would use to prevent your model from overfiting this task? why?\n",
        "\n",
        "-> The perfect number of epochs is 100. This value allowed the model to learn complex patterns while avoiding overfitting. Training beyond 100 epochs resulted in the model's performance stagnating or degrading on validation data, while fewer epochs prevented the model from reaching its full potential.\n",
        "\n",
        "#####   - If it is impossible to prevent overfitting, explain why you think so.\n",
        "\n",
        "-> It might be impossible to prevent overfitting if the dataset is too small or lacks sufficient diversity, leading the model to memorize patterns rather than generalizing. Overfitting can also happen if the model is too complex for the task at hand, such as a deep learning model like T5 applied to a simpler problem. In such cases, even with regularization techniques, the model may still overfit due to its high capacity for learning from limited data.\n",
        "\n",
        "#####   - If its trivial for the model to never overfit, explain why you think so.\n",
        "\n",
        "-> It would be trivial to prevent overfitting if the task is simple, the dataset is large and diverse, and if proper regularization methods are applied. For instance, if using tree-based models like Random Forest or Gradient Boosting, these models inherently handle overfitting better by averaging over multiple decision trees. In addition, using techniques like early stopping, cross-validation, and dropout in neural networks makes overfitting easier to manage. For structured, relatively simple tasks like Boston house price prediction, these models typically generalize well, making overfitting less of a concern.\n",
        "\n",
        "### 11. How do you think you can improve the training algorithm or the dataset design or the model choice to do better at our Boston house price prediction task? what nuances you think is important in considering these choices?\n",
        "\n",
        "-> Improving the model's architecture or exploring other architectures like GPT-3 or BERT could potentially yield better results. Dataset augmentation techniques, such as adding more features or creating synthetic data, would also improve performance. Additionally, fine-tuning hyperparameters more rigorously could help.\n",
        "\n",
        "### 12. Report the results of your comparison study (between the T5 with each of the other ML models)\n",
        "\n",
        "-> The comparison of T5 with other models showed:\n",
        "\n",
        "T5 achieved an accuracy of 0.6171.\n",
        "Random Forest (0.6485) and Gradient Boosting (0.6792) outperformed it, while Linear Regression (0.3533) and Decision Trees (0.1719) performed worse.\n",
        "\n",
        "### 13. Why do you think each ML model do better/worse than the other? is your trained T5 achieving a better accuracy than some/all the other models? why do you think it might be doing better/worse than some/all of the other ML models?\n",
        "\n",
        "-> Linear Regression: This model assumes a linear relationship between features and target variables. However, housing prices are influenced by complex, non-linear factors, making linear regression less effective. As a result, it had lower validation accuracy compared to other models.\n",
        "\n",
        "Decision Tree Regressor: Decision trees perform well by splitting the data into segments, but they tend to overfit, especially with many features. In this case, it overfitted the training data, leading to poor generalization on the validation set.\n",
        "\n",
        "Random Forest Regressor: Random Forest improves on decision trees by averaging multiple trees' predictions, reducing overfitting. It showed better performance than the decision tree, handling the complexity of the data better.\n",
        "\n",
        "Gradient Boosting Regressor: Gradient Boosting builds trees sequentially, where each new tree corrects previous errors. It captures complex patterns better than other models, which is why it achieved the highest validation accuracy.\n",
        "\n",
        "T5 (Text-to-Text Transfer Transformer): While T5 can handle text data, it struggled with the numerical, tabular nature of the housing data. It achieved a test accuracy of 0.6171, but Random Forest and Gradient Boosting outperformed it due to their ability to model non-linear relationships in the data.\n",
        "\n",
        "Overall, Random Forest and Gradient Boosting performed better due to their handling of complex relationships in the data.\n",
        "\n",
        "### 14. Considering the training time and inference time of our T5 model versus the other ML models, do you think the accuracy that our T5 achieve was worth it? why?\n",
        "\n",
        "-> Considering the training and inference time, the accuracy achieved by the T5 model (0.6171) is not fully justified when compared to the simpler machine learning models, like Random Forest (0.6485) and Gradient Boosting (0.6792). The T5 model, being a transformer-based model, requires significantly more computational resources and time for both training and inference due to its complex architecture, which includes numerous parameters and layers. In contrast, traditional models like Random Forest and Gradient Boosting are more efficient in terms of training and inference time, yet they achieved similar or even slightly higher accuracy.\n",
        "\n",
        "For this specific task, which involves predicting housing prices—a task that can be efficiently handled by models like Random Forest and Gradient Boosting—the additional computational cost of the T5 model does not provide a proportional improvement in accuracy. While T5 could have potential advantages in handling more complex or high-dimensional data, the simpler models in this case were not only faster but also sufficiently accurate.\n",
        "\n",
        "Thus, in terms of the trade-off between training time, inference time, and accuracy, the simpler models performed just as well, making them more practical choices for this problem."
      ]
    },
    {
      "cell_type": "markdown",
      "source": [
        "# Part 5: Submission (Deadline: before class - 9 AM at December 6th, 2024)\n",
        "\n",
        "We expect you to complete the TODOs, run all the code cells, and have the final outputs of those cells displayed in your submission. Your submission file should be a single .ipynb file (openable to Jupyter Notebook and Google Colab).\n",
        "\n",
        "Please submit your file to the course Blackboard."
      ],
      "metadata": {
        "id": "v2WRhEY7VNCX"
      }
    }
  ],
  "metadata": {
    "colab": {
      "provenance": []
    },
    "kernelspec": {
      "display_name": "Python 3",
      "name": "python3"
    },
    "language_info": {
      "name": "python"
    },
    "widgets": {
      "application/vnd.jupyter.widget-state+json": {
        "d6065be19da64896b536622f16cf4461": {
          "model_module": "@jupyter-widgets/controls",
          "model_name": "HBoxModel",
          "model_module_version": "1.5.0",
          "state": {
            "_dom_classes": [],
            "_model_module": "@jupyter-widgets/controls",
            "_model_module_version": "1.5.0",
            "_model_name": "HBoxModel",
            "_view_count": null,
            "_view_module": "@jupyter-widgets/controls",
            "_view_module_version": "1.5.0",
            "_view_name": "HBoxView",
            "box_style": "",
            "children": [
              "IPY_MODEL_ade4dc0ea780449bb9395bb8ff08426b",
              "IPY_MODEL_a1d376100edb45cf88558f32004529e8",
              "IPY_MODEL_629baa7d1fb94731afa6a6e892ee3f12"
            ],
            "layout": "IPY_MODEL_49a20efe990f4b4b8efb555a6323f29d"
          }
        },
        "ade4dc0ea780449bb9395bb8ff08426b": {
          "model_module": "@jupyter-widgets/controls",
          "model_name": "HTMLModel",
          "model_module_version": "1.5.0",
          "state": {
            "_dom_classes": [],
            "_model_module": "@jupyter-widgets/controls",
            "_model_module_version": "1.5.0",
            "_model_name": "HTMLModel",
            "_view_count": null,
            "_view_module": "@jupyter-widgets/controls",
            "_view_module_version": "1.5.0",
            "_view_name": "HTMLView",
            "description": "",
            "description_tooltip": null,
            "layout": "IPY_MODEL_b490b9cd92f24ce3a5e814dda6957bc7",
            "placeholder": "​",
            "style": "IPY_MODEL_77124f66ed924c0ca2e320dd176a0f11",
            "value": "config.json: 100%"
          }
        },
        "a1d376100edb45cf88558f32004529e8": {
          "model_module": "@jupyter-widgets/controls",
          "model_name": "FloatProgressModel",
          "model_module_version": "1.5.0",
          "state": {
            "_dom_classes": [],
            "_model_module": "@jupyter-widgets/controls",
            "_model_module_version": "1.5.0",
            "_model_name": "FloatProgressModel",
            "_view_count": null,
            "_view_module": "@jupyter-widgets/controls",
            "_view_module_version": "1.5.0",
            "_view_name": "ProgressView",
            "bar_style": "success",
            "description": "",
            "description_tooltip": null,
            "layout": "IPY_MODEL_567dc69578044311a99b047388fbc9c4",
            "max": 1206,
            "min": 0,
            "orientation": "horizontal",
            "style": "IPY_MODEL_3736567e30024d27b4c9633b5fbced3f",
            "value": 1206
          }
        },
        "629baa7d1fb94731afa6a6e892ee3f12": {
          "model_module": "@jupyter-widgets/controls",
          "model_name": "HTMLModel",
          "model_module_version": "1.5.0",
          "state": {
            "_dom_classes": [],
            "_model_module": "@jupyter-widgets/controls",
            "_model_module_version": "1.5.0",
            "_model_name": "HTMLModel",
            "_view_count": null,
            "_view_module": "@jupyter-widgets/controls",
            "_view_module_version": "1.5.0",
            "_view_name": "HTMLView",
            "description": "",
            "description_tooltip": null,
            "layout": "IPY_MODEL_f5b7de62afbc48128996e574bae90fc5",
            "placeholder": "​",
            "style": "IPY_MODEL_39f587ef71994dd3a425b0649e8e6124",
            "value": " 1.21k/1.21k [00:00&lt;00:00, 59.1kB/s]"
          }
        },
        "49a20efe990f4b4b8efb555a6323f29d": {
          "model_module": "@jupyter-widgets/base",
          "model_name": "LayoutModel",
          "model_module_version": "1.2.0",
          "state": {
            "_model_module": "@jupyter-widgets/base",
            "_model_module_version": "1.2.0",
            "_model_name": "LayoutModel",
            "_view_count": null,
            "_view_module": "@jupyter-widgets/base",
            "_view_module_version": "1.2.0",
            "_view_name": "LayoutView",
            "align_content": null,
            "align_items": null,
            "align_self": null,
            "border": null,
            "bottom": null,
            "display": null,
            "flex": null,
            "flex_flow": null,
            "grid_area": null,
            "grid_auto_columns": null,
            "grid_auto_flow": null,
            "grid_auto_rows": null,
            "grid_column": null,
            "grid_gap": null,
            "grid_row": null,
            "grid_template_areas": null,
            "grid_template_columns": null,
            "grid_template_rows": null,
            "height": null,
            "justify_content": null,
            "justify_items": null,
            "left": null,
            "margin": null,
            "max_height": null,
            "max_width": null,
            "min_height": null,
            "min_width": null,
            "object_fit": null,
            "object_position": null,
            "order": null,
            "overflow": null,
            "overflow_x": null,
            "overflow_y": null,
            "padding": null,
            "right": null,
            "top": null,
            "visibility": null,
            "width": null
          }
        },
        "b490b9cd92f24ce3a5e814dda6957bc7": {
          "model_module": "@jupyter-widgets/base",
          "model_name": "LayoutModel",
          "model_module_version": "1.2.0",
          "state": {
            "_model_module": "@jupyter-widgets/base",
            "_model_module_version": "1.2.0",
            "_model_name": "LayoutModel",
            "_view_count": null,
            "_view_module": "@jupyter-widgets/base",
            "_view_module_version": "1.2.0",
            "_view_name": "LayoutView",
            "align_content": null,
            "align_items": null,
            "align_self": null,
            "border": null,
            "bottom": null,
            "display": null,
            "flex": null,
            "flex_flow": null,
            "grid_area": null,
            "grid_auto_columns": null,
            "grid_auto_flow": null,
            "grid_auto_rows": null,
            "grid_column": null,
            "grid_gap": null,
            "grid_row": null,
            "grid_template_areas": null,
            "grid_template_columns": null,
            "grid_template_rows": null,
            "height": null,
            "justify_content": null,
            "justify_items": null,
            "left": null,
            "margin": null,
            "max_height": null,
            "max_width": null,
            "min_height": null,
            "min_width": null,
            "object_fit": null,
            "object_position": null,
            "order": null,
            "overflow": null,
            "overflow_x": null,
            "overflow_y": null,
            "padding": null,
            "right": null,
            "top": null,
            "visibility": null,
            "width": null
          }
        },
        "77124f66ed924c0ca2e320dd176a0f11": {
          "model_module": "@jupyter-widgets/controls",
          "model_name": "DescriptionStyleModel",
          "model_module_version": "1.5.0",
          "state": {
            "_model_module": "@jupyter-widgets/controls",
            "_model_module_version": "1.5.0",
            "_model_name": "DescriptionStyleModel",
            "_view_count": null,
            "_view_module": "@jupyter-widgets/base",
            "_view_module_version": "1.2.0",
            "_view_name": "StyleView",
            "description_width": ""
          }
        },
        "567dc69578044311a99b047388fbc9c4": {
          "model_module": "@jupyter-widgets/base",
          "model_name": "LayoutModel",
          "model_module_version": "1.2.0",
          "state": {
            "_model_module": "@jupyter-widgets/base",
            "_model_module_version": "1.2.0",
            "_model_name": "LayoutModel",
            "_view_count": null,
            "_view_module": "@jupyter-widgets/base",
            "_view_module_version": "1.2.0",
            "_view_name": "LayoutView",
            "align_content": null,
            "align_items": null,
            "align_self": null,
            "border": null,
            "bottom": null,
            "display": null,
            "flex": null,
            "flex_flow": null,
            "grid_area": null,
            "grid_auto_columns": null,
            "grid_auto_flow": null,
            "grid_auto_rows": null,
            "grid_column": null,
            "grid_gap": null,
            "grid_row": null,
            "grid_template_areas": null,
            "grid_template_columns": null,
            "grid_template_rows": null,
            "height": null,
            "justify_content": null,
            "justify_items": null,
            "left": null,
            "margin": null,
            "max_height": null,
            "max_width": null,
            "min_height": null,
            "min_width": null,
            "object_fit": null,
            "object_position": null,
            "order": null,
            "overflow": null,
            "overflow_x": null,
            "overflow_y": null,
            "padding": null,
            "right": null,
            "top": null,
            "visibility": null,
            "width": null
          }
        },
        "3736567e30024d27b4c9633b5fbced3f": {
          "model_module": "@jupyter-widgets/controls",
          "model_name": "ProgressStyleModel",
          "model_module_version": "1.5.0",
          "state": {
            "_model_module": "@jupyter-widgets/controls",
            "_model_module_version": "1.5.0",
            "_model_name": "ProgressStyleModel",
            "_view_count": null,
            "_view_module": "@jupyter-widgets/base",
            "_view_module_version": "1.2.0",
            "_view_name": "StyleView",
            "bar_color": null,
            "description_width": ""
          }
        },
        "f5b7de62afbc48128996e574bae90fc5": {
          "model_module": "@jupyter-widgets/base",
          "model_name": "LayoutModel",
          "model_module_version": "1.2.0",
          "state": {
            "_model_module": "@jupyter-widgets/base",
            "_model_module_version": "1.2.0",
            "_model_name": "LayoutModel",
            "_view_count": null,
            "_view_module": "@jupyter-widgets/base",
            "_view_module_version": "1.2.0",
            "_view_name": "LayoutView",
            "align_content": null,
            "align_items": null,
            "align_self": null,
            "border": null,
            "bottom": null,
            "display": null,
            "flex": null,
            "flex_flow": null,
            "grid_area": null,
            "grid_auto_columns": null,
            "grid_auto_flow": null,
            "grid_auto_rows": null,
            "grid_column": null,
            "grid_gap": null,
            "grid_row": null,
            "grid_template_areas": null,
            "grid_template_columns": null,
            "grid_template_rows": null,
            "height": null,
            "justify_content": null,
            "justify_items": null,
            "left": null,
            "margin": null,
            "max_height": null,
            "max_width": null,
            "min_height": null,
            "min_width": null,
            "object_fit": null,
            "object_position": null,
            "order": null,
            "overflow": null,
            "overflow_x": null,
            "overflow_y": null,
            "padding": null,
            "right": null,
            "top": null,
            "visibility": null,
            "width": null
          }
        },
        "39f587ef71994dd3a425b0649e8e6124": {
          "model_module": "@jupyter-widgets/controls",
          "model_name": "DescriptionStyleModel",
          "model_module_version": "1.5.0",
          "state": {
            "_model_module": "@jupyter-widgets/controls",
            "_model_module_version": "1.5.0",
            "_model_name": "DescriptionStyleModel",
            "_view_count": null,
            "_view_module": "@jupyter-widgets/base",
            "_view_module_version": "1.2.0",
            "_view_name": "StyleView",
            "description_width": ""
          }
        },
        "b5f9a9cb778a46fab690db2e593f85a8": {
          "model_module": "@jupyter-widgets/controls",
          "model_name": "HBoxModel",
          "model_module_version": "1.5.0",
          "state": {
            "_dom_classes": [],
            "_model_module": "@jupyter-widgets/controls",
            "_model_module_version": "1.5.0",
            "_model_name": "HBoxModel",
            "_view_count": null,
            "_view_module": "@jupyter-widgets/controls",
            "_view_module_version": "1.5.0",
            "_view_name": "HBoxView",
            "box_style": "",
            "children": [
              "IPY_MODEL_8492fc1fc8824573ab9a2f2670eeb7a0",
              "IPY_MODEL_24b9e5c9363248aca3692290d9c411fb",
              "IPY_MODEL_1273b072d9cf41d6b8d99c3b615c1c6b"
            ],
            "layout": "IPY_MODEL_a0152b04759c453bb1af3f9d2e436ffa"
          }
        },
        "8492fc1fc8824573ab9a2f2670eeb7a0": {
          "model_module": "@jupyter-widgets/controls",
          "model_name": "HTMLModel",
          "model_module_version": "1.5.0",
          "state": {
            "_dom_classes": [],
            "_model_module": "@jupyter-widgets/controls",
            "_model_module_version": "1.5.0",
            "_model_name": "HTMLModel",
            "_view_count": null,
            "_view_module": "@jupyter-widgets/controls",
            "_view_module_version": "1.5.0",
            "_view_name": "HTMLView",
            "description": "",
            "description_tooltip": null,
            "layout": "IPY_MODEL_f2938b1722184e33b84da25decdcecea",
            "placeholder": "​",
            "style": "IPY_MODEL_82b7fc930d1d41069a1817fedf822eff",
            "value": "model.safetensors: 100%"
          }
        },
        "24b9e5c9363248aca3692290d9c411fb": {
          "model_module": "@jupyter-widgets/controls",
          "model_name": "FloatProgressModel",
          "model_module_version": "1.5.0",
          "state": {
            "_dom_classes": [],
            "_model_module": "@jupyter-widgets/controls",
            "_model_module_version": "1.5.0",
            "_model_name": "FloatProgressModel",
            "_view_count": null,
            "_view_module": "@jupyter-widgets/controls",
            "_view_module_version": "1.5.0",
            "_view_name": "ProgressView",
            "bar_style": "success",
            "description": "",
            "description_tooltip": null,
            "layout": "IPY_MODEL_b23f632e1bbc4f12a563b8c9166b6fbc",
            "max": 242043056,
            "min": 0,
            "orientation": "horizontal",
            "style": "IPY_MODEL_8a6ee40105e549ff847d9c790e9a6e96",
            "value": 242043056
          }
        },
        "1273b072d9cf41d6b8d99c3b615c1c6b": {
          "model_module": "@jupyter-widgets/controls",
          "model_name": "HTMLModel",
          "model_module_version": "1.5.0",
          "state": {
            "_dom_classes": [],
            "_model_module": "@jupyter-widgets/controls",
            "_model_module_version": "1.5.0",
            "_model_name": "HTMLModel",
            "_view_count": null,
            "_view_module": "@jupyter-widgets/controls",
            "_view_module_version": "1.5.0",
            "_view_name": "HTMLView",
            "description": "",
            "description_tooltip": null,
            "layout": "IPY_MODEL_4148fe8e98f8400d920d134378b5bc32",
            "placeholder": "​",
            "style": "IPY_MODEL_44136a5c597c4c24ae9ff8fb203ddf2d",
            "value": " 242M/242M [00:01&lt;00:00, 141MB/s]"
          }
        },
        "a0152b04759c453bb1af3f9d2e436ffa": {
          "model_module": "@jupyter-widgets/base",
          "model_name": "LayoutModel",
          "model_module_version": "1.2.0",
          "state": {
            "_model_module": "@jupyter-widgets/base",
            "_model_module_version": "1.2.0",
            "_model_name": "LayoutModel",
            "_view_count": null,
            "_view_module": "@jupyter-widgets/base",
            "_view_module_version": "1.2.0",
            "_view_name": "LayoutView",
            "align_content": null,
            "align_items": null,
            "align_self": null,
            "border": null,
            "bottom": null,
            "display": null,
            "flex": null,
            "flex_flow": null,
            "grid_area": null,
            "grid_auto_columns": null,
            "grid_auto_flow": null,
            "grid_auto_rows": null,
            "grid_column": null,
            "grid_gap": null,
            "grid_row": null,
            "grid_template_areas": null,
            "grid_template_columns": null,
            "grid_template_rows": null,
            "height": null,
            "justify_content": null,
            "justify_items": null,
            "left": null,
            "margin": null,
            "max_height": null,
            "max_width": null,
            "min_height": null,
            "min_width": null,
            "object_fit": null,
            "object_position": null,
            "order": null,
            "overflow": null,
            "overflow_x": null,
            "overflow_y": null,
            "padding": null,
            "right": null,
            "top": null,
            "visibility": null,
            "width": null
          }
        },
        "f2938b1722184e33b84da25decdcecea": {
          "model_module": "@jupyter-widgets/base",
          "model_name": "LayoutModel",
          "model_module_version": "1.2.0",
          "state": {
            "_model_module": "@jupyter-widgets/base",
            "_model_module_version": "1.2.0",
            "_model_name": "LayoutModel",
            "_view_count": null,
            "_view_module": "@jupyter-widgets/base",
            "_view_module_version": "1.2.0",
            "_view_name": "LayoutView",
            "align_content": null,
            "align_items": null,
            "align_self": null,
            "border": null,
            "bottom": null,
            "display": null,
            "flex": null,
            "flex_flow": null,
            "grid_area": null,
            "grid_auto_columns": null,
            "grid_auto_flow": null,
            "grid_auto_rows": null,
            "grid_column": null,
            "grid_gap": null,
            "grid_row": null,
            "grid_template_areas": null,
            "grid_template_columns": null,
            "grid_template_rows": null,
            "height": null,
            "justify_content": null,
            "justify_items": null,
            "left": null,
            "margin": null,
            "max_height": null,
            "max_width": null,
            "min_height": null,
            "min_width": null,
            "object_fit": null,
            "object_position": null,
            "order": null,
            "overflow": null,
            "overflow_x": null,
            "overflow_y": null,
            "padding": null,
            "right": null,
            "top": null,
            "visibility": null,
            "width": null
          }
        },
        "82b7fc930d1d41069a1817fedf822eff": {
          "model_module": "@jupyter-widgets/controls",
          "model_name": "DescriptionStyleModel",
          "model_module_version": "1.5.0",
          "state": {
            "_model_module": "@jupyter-widgets/controls",
            "_model_module_version": "1.5.0",
            "_model_name": "DescriptionStyleModel",
            "_view_count": null,
            "_view_module": "@jupyter-widgets/base",
            "_view_module_version": "1.2.0",
            "_view_name": "StyleView",
            "description_width": ""
          }
        },
        "b23f632e1bbc4f12a563b8c9166b6fbc": {
          "model_module": "@jupyter-widgets/base",
          "model_name": "LayoutModel",
          "model_module_version": "1.2.0",
          "state": {
            "_model_module": "@jupyter-widgets/base",
            "_model_module_version": "1.2.0",
            "_model_name": "LayoutModel",
            "_view_count": null,
            "_view_module": "@jupyter-widgets/base",
            "_view_module_version": "1.2.0",
            "_view_name": "LayoutView",
            "align_content": null,
            "align_items": null,
            "align_self": null,
            "border": null,
            "bottom": null,
            "display": null,
            "flex": null,
            "flex_flow": null,
            "grid_area": null,
            "grid_auto_columns": null,
            "grid_auto_flow": null,
            "grid_auto_rows": null,
            "grid_column": null,
            "grid_gap": null,
            "grid_row": null,
            "grid_template_areas": null,
            "grid_template_columns": null,
            "grid_template_rows": null,
            "height": null,
            "justify_content": null,
            "justify_items": null,
            "left": null,
            "margin": null,
            "max_height": null,
            "max_width": null,
            "min_height": null,
            "min_width": null,
            "object_fit": null,
            "object_position": null,
            "order": null,
            "overflow": null,
            "overflow_x": null,
            "overflow_y": null,
            "padding": null,
            "right": null,
            "top": null,
            "visibility": null,
            "width": null
          }
        },
        "8a6ee40105e549ff847d9c790e9a6e96": {
          "model_module": "@jupyter-widgets/controls",
          "model_name": "ProgressStyleModel",
          "model_module_version": "1.5.0",
          "state": {
            "_model_module": "@jupyter-widgets/controls",
            "_model_module_version": "1.5.0",
            "_model_name": "ProgressStyleModel",
            "_view_count": null,
            "_view_module": "@jupyter-widgets/base",
            "_view_module_version": "1.2.0",
            "_view_name": "StyleView",
            "bar_color": null,
            "description_width": ""
          }
        },
        "4148fe8e98f8400d920d134378b5bc32": {
          "model_module": "@jupyter-widgets/base",
          "model_name": "LayoutModel",
          "model_module_version": "1.2.0",
          "state": {
            "_model_module": "@jupyter-widgets/base",
            "_model_module_version": "1.2.0",
            "_model_name": "LayoutModel",
            "_view_count": null,
            "_view_module": "@jupyter-widgets/base",
            "_view_module_version": "1.2.0",
            "_view_name": "LayoutView",
            "align_content": null,
            "align_items": null,
            "align_self": null,
            "border": null,
            "bottom": null,
            "display": null,
            "flex": null,
            "flex_flow": null,
            "grid_area": null,
            "grid_auto_columns": null,
            "grid_auto_flow": null,
            "grid_auto_rows": null,
            "grid_column": null,
            "grid_gap": null,
            "grid_row": null,
            "grid_template_areas": null,
            "grid_template_columns": null,
            "grid_template_rows": null,
            "height": null,
            "justify_content": null,
            "justify_items": null,
            "left": null,
            "margin": null,
            "max_height": null,
            "max_width": null,
            "min_height": null,
            "min_width": null,
            "object_fit": null,
            "object_position": null,
            "order": null,
            "overflow": null,
            "overflow_x": null,
            "overflow_y": null,
            "padding": null,
            "right": null,
            "top": null,
            "visibility": null,
            "width": null
          }
        },
        "44136a5c597c4c24ae9ff8fb203ddf2d": {
          "model_module": "@jupyter-widgets/controls",
          "model_name": "DescriptionStyleModel",
          "model_module_version": "1.5.0",
          "state": {
            "_model_module": "@jupyter-widgets/controls",
            "_model_module_version": "1.5.0",
            "_model_name": "DescriptionStyleModel",
            "_view_count": null,
            "_view_module": "@jupyter-widgets/base",
            "_view_module_version": "1.2.0",
            "_view_name": "StyleView",
            "description_width": ""
          }
        },
        "c65afb2b1ba34fd4a3a68e41fdbcde11": {
          "model_module": "@jupyter-widgets/controls",
          "model_name": "HBoxModel",
          "model_module_version": "1.5.0",
          "state": {
            "_dom_classes": [],
            "_model_module": "@jupyter-widgets/controls",
            "_model_module_version": "1.5.0",
            "_model_name": "HBoxModel",
            "_view_count": null,
            "_view_module": "@jupyter-widgets/controls",
            "_view_module_version": "1.5.0",
            "_view_name": "HBoxView",
            "box_style": "",
            "children": [
              "IPY_MODEL_97d2dd57df394eb2bb6753aaecb19811",
              "IPY_MODEL_54ed3559821e4355990d1cb7a23975c8",
              "IPY_MODEL_27cde343d2d649fda8a50d82fbd2d185"
            ],
            "layout": "IPY_MODEL_19da45c753ff4bb6bfca49cb2e9244c0"
          }
        },
        "97d2dd57df394eb2bb6753aaecb19811": {
          "model_module": "@jupyter-widgets/controls",
          "model_name": "HTMLModel",
          "model_module_version": "1.5.0",
          "state": {
            "_dom_classes": [],
            "_model_module": "@jupyter-widgets/controls",
            "_model_module_version": "1.5.0",
            "_model_name": "HTMLModel",
            "_view_count": null,
            "_view_module": "@jupyter-widgets/controls",
            "_view_module_version": "1.5.0",
            "_view_name": "HTMLView",
            "description": "",
            "description_tooltip": null,
            "layout": "IPY_MODEL_99d41186d757451682f4eb2cc8ac4682",
            "placeholder": "​",
            "style": "IPY_MODEL_172def5f900f4e039dafddd0ed44e98c",
            "value": "generation_config.json: 100%"
          }
        },
        "54ed3559821e4355990d1cb7a23975c8": {
          "model_module": "@jupyter-widgets/controls",
          "model_name": "FloatProgressModel",
          "model_module_version": "1.5.0",
          "state": {
            "_dom_classes": [],
            "_model_module": "@jupyter-widgets/controls",
            "_model_module_version": "1.5.0",
            "_model_name": "FloatProgressModel",
            "_view_count": null,
            "_view_module": "@jupyter-widgets/controls",
            "_view_module_version": "1.5.0",
            "_view_name": "ProgressView",
            "bar_style": "success",
            "description": "",
            "description_tooltip": null,
            "layout": "IPY_MODEL_4b34ead5c8784ec9bffabf416a235d31",
            "max": 147,
            "min": 0,
            "orientation": "horizontal",
            "style": "IPY_MODEL_7ab1a88f15aa45fd8d76d20e5271b561",
            "value": 147
          }
        },
        "27cde343d2d649fda8a50d82fbd2d185": {
          "model_module": "@jupyter-widgets/controls",
          "model_name": "HTMLModel",
          "model_module_version": "1.5.0",
          "state": {
            "_dom_classes": [],
            "_model_module": "@jupyter-widgets/controls",
            "_model_module_version": "1.5.0",
            "_model_name": "HTMLModel",
            "_view_count": null,
            "_view_module": "@jupyter-widgets/controls",
            "_view_module_version": "1.5.0",
            "_view_name": "HTMLView",
            "description": "",
            "description_tooltip": null,
            "layout": "IPY_MODEL_8efc9572da914dee86149e572ec39955",
            "placeholder": "​",
            "style": "IPY_MODEL_5211104b60194d1494528ca4c9e6d460",
            "value": " 147/147 [00:00&lt;00:00, 4.13kB/s]"
          }
        },
        "19da45c753ff4bb6bfca49cb2e9244c0": {
          "model_module": "@jupyter-widgets/base",
          "model_name": "LayoutModel",
          "model_module_version": "1.2.0",
          "state": {
            "_model_module": "@jupyter-widgets/base",
            "_model_module_version": "1.2.0",
            "_model_name": "LayoutModel",
            "_view_count": null,
            "_view_module": "@jupyter-widgets/base",
            "_view_module_version": "1.2.0",
            "_view_name": "LayoutView",
            "align_content": null,
            "align_items": null,
            "align_self": null,
            "border": null,
            "bottom": null,
            "display": null,
            "flex": null,
            "flex_flow": null,
            "grid_area": null,
            "grid_auto_columns": null,
            "grid_auto_flow": null,
            "grid_auto_rows": null,
            "grid_column": null,
            "grid_gap": null,
            "grid_row": null,
            "grid_template_areas": null,
            "grid_template_columns": null,
            "grid_template_rows": null,
            "height": null,
            "justify_content": null,
            "justify_items": null,
            "left": null,
            "margin": null,
            "max_height": null,
            "max_width": null,
            "min_height": null,
            "min_width": null,
            "object_fit": null,
            "object_position": null,
            "order": null,
            "overflow": null,
            "overflow_x": null,
            "overflow_y": null,
            "padding": null,
            "right": null,
            "top": null,
            "visibility": null,
            "width": null
          }
        },
        "99d41186d757451682f4eb2cc8ac4682": {
          "model_module": "@jupyter-widgets/base",
          "model_name": "LayoutModel",
          "model_module_version": "1.2.0",
          "state": {
            "_model_module": "@jupyter-widgets/base",
            "_model_module_version": "1.2.0",
            "_model_name": "LayoutModel",
            "_view_count": null,
            "_view_module": "@jupyter-widgets/base",
            "_view_module_version": "1.2.0",
            "_view_name": "LayoutView",
            "align_content": null,
            "align_items": null,
            "align_self": null,
            "border": null,
            "bottom": null,
            "display": null,
            "flex": null,
            "flex_flow": null,
            "grid_area": null,
            "grid_auto_columns": null,
            "grid_auto_flow": null,
            "grid_auto_rows": null,
            "grid_column": null,
            "grid_gap": null,
            "grid_row": null,
            "grid_template_areas": null,
            "grid_template_columns": null,
            "grid_template_rows": null,
            "height": null,
            "justify_content": null,
            "justify_items": null,
            "left": null,
            "margin": null,
            "max_height": null,
            "max_width": null,
            "min_height": null,
            "min_width": null,
            "object_fit": null,
            "object_position": null,
            "order": null,
            "overflow": null,
            "overflow_x": null,
            "overflow_y": null,
            "padding": null,
            "right": null,
            "top": null,
            "visibility": null,
            "width": null
          }
        },
        "172def5f900f4e039dafddd0ed44e98c": {
          "model_module": "@jupyter-widgets/controls",
          "model_name": "DescriptionStyleModel",
          "model_module_version": "1.5.0",
          "state": {
            "_model_module": "@jupyter-widgets/controls",
            "_model_module_version": "1.5.0",
            "_model_name": "DescriptionStyleModel",
            "_view_count": null,
            "_view_module": "@jupyter-widgets/base",
            "_view_module_version": "1.2.0",
            "_view_name": "StyleView",
            "description_width": ""
          }
        },
        "4b34ead5c8784ec9bffabf416a235d31": {
          "model_module": "@jupyter-widgets/base",
          "model_name": "LayoutModel",
          "model_module_version": "1.2.0",
          "state": {
            "_model_module": "@jupyter-widgets/base",
            "_model_module_version": "1.2.0",
            "_model_name": "LayoutModel",
            "_view_count": null,
            "_view_module": "@jupyter-widgets/base",
            "_view_module_version": "1.2.0",
            "_view_name": "LayoutView",
            "align_content": null,
            "align_items": null,
            "align_self": null,
            "border": null,
            "bottom": null,
            "display": null,
            "flex": null,
            "flex_flow": null,
            "grid_area": null,
            "grid_auto_columns": null,
            "grid_auto_flow": null,
            "grid_auto_rows": null,
            "grid_column": null,
            "grid_gap": null,
            "grid_row": null,
            "grid_template_areas": null,
            "grid_template_columns": null,
            "grid_template_rows": null,
            "height": null,
            "justify_content": null,
            "justify_items": null,
            "left": null,
            "margin": null,
            "max_height": null,
            "max_width": null,
            "min_height": null,
            "min_width": null,
            "object_fit": null,
            "object_position": null,
            "order": null,
            "overflow": null,
            "overflow_x": null,
            "overflow_y": null,
            "padding": null,
            "right": null,
            "top": null,
            "visibility": null,
            "width": null
          }
        },
        "7ab1a88f15aa45fd8d76d20e5271b561": {
          "model_module": "@jupyter-widgets/controls",
          "model_name": "ProgressStyleModel",
          "model_module_version": "1.5.0",
          "state": {
            "_model_module": "@jupyter-widgets/controls",
            "_model_module_version": "1.5.0",
            "_model_name": "ProgressStyleModel",
            "_view_count": null,
            "_view_module": "@jupyter-widgets/base",
            "_view_module_version": "1.2.0",
            "_view_name": "StyleView",
            "bar_color": null,
            "description_width": ""
          }
        },
        "8efc9572da914dee86149e572ec39955": {
          "model_module": "@jupyter-widgets/base",
          "model_name": "LayoutModel",
          "model_module_version": "1.2.0",
          "state": {
            "_model_module": "@jupyter-widgets/base",
            "_model_module_version": "1.2.0",
            "_model_name": "LayoutModel",
            "_view_count": null,
            "_view_module": "@jupyter-widgets/base",
            "_view_module_version": "1.2.0",
            "_view_name": "LayoutView",
            "align_content": null,
            "align_items": null,
            "align_self": null,
            "border": null,
            "bottom": null,
            "display": null,
            "flex": null,
            "flex_flow": null,
            "grid_area": null,
            "grid_auto_columns": null,
            "grid_auto_flow": null,
            "grid_auto_rows": null,
            "grid_column": null,
            "grid_gap": null,
            "grid_row": null,
            "grid_template_areas": null,
            "grid_template_columns": null,
            "grid_template_rows": null,
            "height": null,
            "justify_content": null,
            "justify_items": null,
            "left": null,
            "margin": null,
            "max_height": null,
            "max_width": null,
            "min_height": null,
            "min_width": null,
            "object_fit": null,
            "object_position": null,
            "order": null,
            "overflow": null,
            "overflow_x": null,
            "overflow_y": null,
            "padding": null,
            "right": null,
            "top": null,
            "visibility": null,
            "width": null
          }
        },
        "5211104b60194d1494528ca4c9e6d460": {
          "model_module": "@jupyter-widgets/controls",
          "model_name": "DescriptionStyleModel",
          "model_module_version": "1.5.0",
          "state": {
            "_model_module": "@jupyter-widgets/controls",
            "_model_module_version": "1.5.0",
            "_model_name": "DescriptionStyleModel",
            "_view_count": null,
            "_view_module": "@jupyter-widgets/base",
            "_view_module_version": "1.2.0",
            "_view_name": "StyleView",
            "description_width": ""
          }
        }
      }
    }
  },
  "nbformat": 4,
  "nbformat_minor": 0
}